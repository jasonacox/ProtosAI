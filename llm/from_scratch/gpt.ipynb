{
 "cells": [
  {
   "cell_type": "code",
   "execution_count": 34,
   "id": "62a6ebe8-454f-4f5a-bcdb-6ed1132625c7",
   "metadata": {
    "collapsed": true,
    "editable": true,
    "jupyter": {
     "outputs_hidden": true,
     "source_hidden": true
    },
    "scrolled": true,
    "slideshow": {
     "slide_type": ""
    },
    "tags": []
   },
   "outputs": [
    {
     "name": "stdout",
     "output_type": "stream",
     "text": [
      "Requirement already satisfied: matplotlib in /opt/conda/lib/python3.11/site-packages (3.8.2)\n",
      "Requirement already satisfied: contourpy>=1.0.1 in /opt/conda/lib/python3.11/site-packages (from matplotlib) (1.2.0)\n",
      "Requirement already satisfied: cycler>=0.10 in /opt/conda/lib/python3.11/site-packages (from matplotlib) (0.12.1)\n",
      "Requirement already satisfied: fonttools>=4.22.0 in /opt/conda/lib/python3.11/site-packages (from matplotlib) (4.47.2)\n",
      "Requirement already satisfied: kiwisolver>=1.3.1 in /opt/conda/lib/python3.11/site-packages (from matplotlib) (1.4.5)\n",
      "Requirement already satisfied: numpy<2,>=1.21 in /opt/conda/lib/python3.11/site-packages (from matplotlib) (1.26.3)\n",
      "Requirement already satisfied: packaging>=20.0 in /opt/conda/lib/python3.11/site-packages (from matplotlib) (23.2)\n",
      "Requirement already satisfied: pillow>=8 in /opt/conda/lib/python3.11/site-packages (from matplotlib) (10.2.0)\n",
      "Requirement already satisfied: pyparsing>=2.3.1 in /opt/conda/lib/python3.11/site-packages (from matplotlib) (3.1.1)\n",
      "Requirement already satisfied: python-dateutil>=2.7 in /opt/conda/lib/python3.11/site-packages (from matplotlib) (2.8.2)\n",
      "Requirement already satisfied: six>=1.5 in /opt/conda/lib/python3.11/site-packages (from python-dateutil>=2.7->matplotlib) (1.16.0)\n"
     ]
    }
   ],
   "source": [
    "!pip install matplotlib\n",
    "import math\n",
    "import numpy as np\n",
    "import matplotlib.pyplot as plt\n",
    "%matplotlib inline"
   ]
  },
  {
   "cell_type": "markdown",
   "id": "00474b55-e1dd-4266-bd5e-1a73e4ddfb29",
   "metadata": {
    "editable": true,
    "slideshow": {
     "slide_type": ""
    },
    "tags": []
   },
   "source": [
    "# Generative Artificial Intelligence\n",
    "\n",
    "ChatGPT, Claude, Gemini, and CoPilot are all amazing examples of Generative AI technology powered by Large Language Models. But how does it actually work? Let's take a look behind the scenes and into the code of this amazing new technology.\n",
    "\n",
    "This notebook walks you through creating your own Generative Pretrained Transformer (GPT) language model. First we explore the background science, then we will look at tokens, the atomic units of these large language models. We will then move on to data preparation, training a model and finally, generating text with the model.\n",
    "\n",
    "## Background\n",
    "\n",
    "To understand GPTs, we need to understand the foundational science: the Neuron.\n",
    "\n",
    "<img width=\"640\" alt=\"image\" src=\"https://github.com/user-attachments/assets/483305da-6c02-4532-8522-255f64b38093\">\n",
    "\n",
    "The intricate dance of synaptic connections and neurotransmitters is a key aspect of neural networks, and understanding these mechanisms has inspired the development of artificial neural networks, which mimic the behavior of biological neurons to process and learn from complex data.\n",
    "\n",
    "## Mathematical Representation of a Neuron\n",
    "\n",
    "![axon from a neuron](https://github.com/user-attachments/assets/62da7697-fc31-4670-a2ef-69c1ae4d2aa9)\n",
    "\n",
    "Multiple inputs (x) are amplified or attenuated (product) by the synaptic weights (w) before being combined (summed) inside the cell body. The cell itself has a bias (b) that gets added to that resulting signal. This signal is then passed through an activation function (f) to determine if the signal will be passed on to other neurons (output). Activation functions in neural networks introduce non-linearity, enabling the network to learn complex patterns. Common activation functions include ReLU, Sigmoid, Tanh, and Softmax. The hyperbolic tangent (`tanh()`) provides a zero-centered output and smooth gradient and is often used in hidden layers of a neural net. Softmax is often used in the output layer of a neural net."
   ]
  },
  {
   "cell_type": "code",
   "execution_count": 36,
   "id": "82034b0b-cdf3-4f90-a339-9c419b9092dc",
   "metadata": {
    "editable": true,
    "slideshow": {
     "slide_type": ""
    },
    "tags": []
   },
   "outputs": [
    {
     "data": {
      "image/png": "[encoded data removed]",
      "text/plain": [
       "<Figure size 640x480 with 1 Axes>"
      ]
     },
     "metadata": {},
     "output_type": "display_data"
    }
   ],
   "source": [
    "# Activation Function\n",
    "plt.plot(np.arange(-5,5,0.2), np.tanh(np.arange(-5,5,0.2))); plt.grid();"
   ]
  },
  {
   "cell_type": "code",
   "execution_count": null,
   "id": "50a017e6-9374-4e19-b140-9d2799183061",
   "metadata": {},
   "outputs": [],
   "source": []
  },
  {
   "cell_type": "markdown",
   "id": "d994812c-53b8-4eda-8d93-e0f53354dd2e",
   "metadata": {},
   "source": [
    "## Neural Networks\n",
    "\n",
    "![output layer](https://github.com/user-attachments/assets/50033790-4164-4154-8062-aaeef0d56df6)\n",
    "\n",
    "### How to train a Neural Network\n",
    "\n",
    "#### 1. Forward Propagation\n",
    "- Input data is fed into the input layer.\n",
    "- The data is then passed through each layer, from input to hidden to output.\n",
    "- At each neuron, the input data is multiplied by the corresponding weights, added to the bias, and passed through the activation function to produce the output: $ z = W \\cdot x + b $\n",
    "- This process continues until the data reaches the output layer, producing the final output of the network.\n",
    "\n",
    "#### 2. Compute Loss\n",
    "- After froward propagation, the loss is calculated to deterimne the accuracy of the current prediction.\n",
    "- The _loss function_ measures the difference between the predicted output and the desired target values.\n",
    "- Common loss functions include Mean Squared Error (MSE) for regression tasks and Cross-Entropy Loss for classification tasks.\n",
    "\n",
    "#### 3. Backpropagation\n",
    "- Once the loss is knows, backpropagation is performed to adjust the weights and biases to minimize the loss.\n",
    "- This is perfomred by calculating the gradient of the loss function with respect to each weight and bias using the chain rule.\n",
    "- The gradients are then used to update the weights and biases in the opposite direction of the gradient (by a *learning rate* amount), a process known as _gradient descent_.\n",
    "\n",
    "#### 4. Repeat\n",
    "- Forward propagation and backpropagation will be performed over many iterations, adjusting the weights and biases each time to minimize the loss.\n",
    "- Training continues until the loss converges to a minimum value or a specified number of iterations (epochs) is reached."
   ]
  },
  {
   "cell_type": "markdown",
   "id": "3fef6a9e",
   "metadata": {},
   "source": [
    "## Transformer Architecture\n",
    "\n",
    "Building upon the biological and mathematical representation of the neuron, the Transformer architecture has emerged as a game-changer in the field of natural language processing. The transformer has given rise to the GenAI movement, a new era of artificial intelligence that is transforming industries and redefining the boundaries of human-machine collaboration.\n",
    "\n",
    "<img width=\"706\" alt=\"Transformers\" src=\"https://github.com/user-attachments/assets/f03692ed-7b3b-484f-b41b-b221376cd5a0\">\n",
    "\n",
    "Source : https://www.coursera.org/learn/generative-ai-with-llms\n",
    "\n",
    "The Transformer architecture was first introduced in the groundbreaking paper \"[Attention is All You Need](https://arxiv.org/pdf/1706.03762v1)\" by Vaswani et al. in 2017. This seminal work proposed a novel approach to sequence-to-sequence learning, which revolutionized the field of natural language processing (NLP) and beyond. The authors challenged the traditional encoder-decoder architecture, which relied on recurrent neural networks (RNNs) or convolutional neural networks (CNNs) to process sequential data. Instead, they proposed a purely attention-based model, where the encoder and decoder are composed of identical layers, and the attention mechanism is used to weigh the importance of different input elements when computing the output.\n",
    "\n",
    "<img width=\"485\" alt=\"Transformer Architecture\" src=\"https://github.com/user-attachments/assets/d1a81768-1a62-4d86-b48b-51c27ca80aa7\">\n",
    "\n",
    "\n",
    "Example Transation:\n",
    "\n",
    "\n",
    "<img width=\"640\" alt=\"Translation Example\" src=\"https://github.com/user-attachments/assets/f722b1ba-4660-4782-8ece-aa422bea8a7c\">\n",
    "\n",
    "<img width=\"640\" alt=\"Decoder\" src=\"https://jalammar.github.io/images/t/transformer_decoding_2.gif\">\n",
    "\n",
    "Source: https://jalammar.github.io/illustrated-transformer/\n",
    "\n",
    "\n",
    "The Transformer architecture relies on self-attention, a mechanism that allows the model to attend to different parts of the input sequence simultaneously and weigh their importance. This is achieved through a series of linear transformations, which compute the attention weights, and a softmax function, which normalizes these weights to ensure they sum to 1. The attention weights are then used to compute the weighted sum of the input elements, which is used as input to the next layer. This process is repeated multiple times, allowing the model to capture long-range dependencies and contextual relationships in the input sequence. The Transformer architecture has since become a cornerstone of modern NLP, and its variants have been applied to a wide range of tasks, including machine translation, text classification, and question answering.\n",
    "\n",
    "![animal_](https://github.com/user-attachments/assets/20aeade6-b261-4f82-a818-bf2ed005dd6e)\n",
    "\n",
    "\n",
    "<img width=\"800\" alt=\"image\" src=\"https://github.com/user-attachments/assets/c5ff56ca-f985-4c92-9588-c845b05fbf7f\">\n",
    "\n",
    "Source: Visualizing Attention, a Transformer's Heart - https://www.3blue1brown.com/lessons/attention"
   ]
  },
  {
   "cell_type": "markdown",
   "id": "9e2df349",
   "metadata": {},
   "source": [
    "## All about Tokens\n",
    "\n",
    "Training an LLM on natural language requires that we convert the language to numeric \"signals\" to feed into the neural net. These are called tokens. These tokens can be characters, words or even parts of words. They are the atomic components of language.\n",
    "\n",
    "<img width=\"532\" alt=\"image\" src=\"https://github.com/user-attachments/assets/bb90fbe5-78ec-45b3-9678-6a95c9baa386\">\n",
    "\n",
    "Source: https://platform.openai.com/tokenizer "
   ]
  },
  {
   "cell_type": "code",
   "execution_count": null,
   "id": "77d71352-adf5-4fd5-a4a7-68c1c8a65e19",
   "metadata": {
    "jupyter": {
     "source_hidden": true
    },
    "scrolled": true
   },
   "outputs": [],
   "source": [
    "# First some dependencies need to be installed\n",
    "!pip install tiktoken\n",
    "!pip install transformers\n",
    "!pip install datasets\n",
    "!pip install tqdm\n",
    "!pip install torch"
   ]
  },
  {
   "cell_type": "code",
   "execution_count": 37,
   "id": "ef6ecee2-0261-49da-8085-053bcda02680",
   "metadata": {},
   "outputs": [
    {
     "name": "stdout",
     "output_type": "stream",
     "text": [
      "[464, 2068, 7586, 21831, 11687, 625, 262, 16931, 3013, 3255, 3290, 13, 50256]\n"
     ]
    }
   ],
   "source": [
    "import tiktoken\n",
    "\n",
    "enc = tiktoken.get_encoding(\"gpt2\")\n",
    "phrase = \"The quick brown fox jumped over the lazy snoring dog.\"\n",
    "tokens = enc.encode_ordinary(phrase)\n",
    "# Add end of text token\n",
    "tokens.append(enc.eot_token)\n",
    "print(tokens)"
   ]
  },
  {
   "cell_type": "code",
   "execution_count": 38,
   "id": "defa1f80-eafe-4c86-a90b-e80420e1ae81",
   "metadata": {},
   "outputs": [
    {
     "name": "stdout",
     "output_type": "stream",
     "text": [
      "\"The\", \" quick\", \" brown\", \" fox\", \" jumped\", \" over\", \" the\", \" lazy\", \" sn\", \"oring\", \" dog\", \".\", \"<|endoftext|>\", "
     ]
    }
   ],
   "source": [
    "for token in tokens:\n",
    "    print(f'\"{enc.decode([token])}\", ',end='')"
   ]
  },
  {
   "cell_type": "code",
   "execution_count": 39,
   "id": "f31f8c35",
   "metadata": {},
   "outputs": [
    {
     "name": "stdout",
     "output_type": "stream",
     "text": [
      "The -> \" quick\"\n",
      "The| quick -> \" brown\"\n",
      "The| quick| brown -> \" fox\"\n",
      "The| quick| brown| fox -> \" jumped\"\n",
      "The| quick| brown| fox| jumped -> \" over\"\n",
      "The| quick| brown| fox| jumped| over -> \" the\"\n",
      "The| quick| brown| fox| jumped| over| the -> \" lazy\"\n",
      "The| quick| brown| fox| jumped| over| the| lazy -> \" sn\"\n",
      "The| quick| brown| fox| jumped| over| the| lazy| sn -> \"oring\"\n",
      "The| quick| brown| fox| jumped| over| the| lazy| sn|oring -> \" dog\"\n",
      "The| quick| brown| fox| jumped| over| the| lazy| sn|oring| dog -> \".\"\n",
      "The| quick| brown| fox| jumped| over| the| lazy| sn|oring| dog|. -> \"<|endoftext|>\"\n"
     ]
    }
   ],
   "source": [
    "# The training target is the next token in the sequence\n",
    "predictions = tokens[:-1]\n",
    "targets = tokens[1:] + [enc.encode_ordinary(\"\")]\n",
    "for x in range(len(predictions)):\n",
    "    print('|'.join([f'{enc.decode([p])}' for p in predictions[:x+1]]), end='')\n",
    "    print(f' -> \"{enc.decode([targets[x]])}\"')\n"
   ]
  },
  {
   "cell_type": "markdown",
   "id": "4697ffca-c9d8-44a1-9d18-e595d18c1a5f",
   "metadata": {},
   "source": [
    "# Tokenize Training Data\n",
    "\n",
    "We will use the Tiny Shakespeare dataset to train a model. See the [shakespeare.txt](https://raw.githubusercontent.com/karpathy/char-rnn/master/data/tinyshakespeare/input.txt) file.\n",
    "\n",
    "Divide data into two parts:\n",
    "- 90% Training\n",
    "- 10% Validation"
   ]
  },
  {
   "cell_type": "code",
   "execution_count": 40,
   "id": "dbe64b04-e900-4a84-9792-fdbe426049a0",
   "metadata": {},
   "outputs": [
    {
     "name": "stdout",
     "output_type": "stream",
     "text": [
      "train has 301,966 tokens\n",
      "val has 36,059 tokens\n"
     ]
    }
   ],
   "source": [
    "import os\n",
    "import requests\n",
    "import tiktoken\n",
    "import numpy as np\n",
    "\n",
    "# tiny shakespeare dataset\n",
    "input_file_path = 'data/shakespeare.txt'\n",
    "if not os.path.exists(input_file_path):\n",
    "    data_url = 'https://raw.githubusercontent.com/karpathy/char-rnn/master/data/tinyshakespeare/input.txt'\n",
    "    with open(input_file_path, 'w') as f:\n",
    "        f.write(requests.get(data_url).text)\n",
    "\n",
    "with open(input_file_path, 'r') as f:\n",
    "    data = f.read()\n",
    "n = len(data)\n",
    "\n",
    "# Use 90% for training and 10% for validation\n",
    "train_data = data[:int(n*0.9)]\n",
    "val_data = data[int(n*0.9):]\n",
    "\n",
    "# encode with tiktoken gpt2\n",
    "enc = tiktoken.get_encoding(\"gpt2\")\n",
    "train_ids = enc.encode_ordinary(train_data)\n",
    "val_ids = enc.encode_ordinary(val_data)\n",
    "print(f\"train has {len(train_ids):,} tokens\")\n",
    "print(f\"val has {len(val_ids):,} tokens\")\n",
    "\n",
    "# export to bin files\n",
    "train_ids = np.array(train_ids, dtype=np.uint16)\n",
    "val_ids = np.array(val_ids, dtype=np.uint16)\n",
    "train_ids.tofile('data/train.bin')\n",
    "val_ids.tofile('data/val.bin')"
   ]
  },
  {
   "cell_type": "code",
   "execution_count": 41,
   "id": "7806ff78-2c68-418b-8877-a2b3d05bc059",
   "metadata": {},
   "outputs": [
    {
     "name": "stdout",
     "output_type": "stream",
     "text": [
      "301966\n"
     ]
    },
    {
     "data": {
      "text/plain": [
       "array([ 5962, 22307,    25, ...,   508,  2058,   994], dtype=uint16)"
      ]
     },
     "execution_count": 41,
     "metadata": {},
     "output_type": "execute_result"
    }
   ],
   "source": [
    "print(len(train_ids))\n",
    "train_ids"
   ]
  },
  {
   "cell_type": "code",
   "execution_count": 42,
   "id": "54a3c098-51e9-44eb-96dd-002ff11a31a9",
   "metadata": {},
   "outputs": [
    {
     "name": "stdout",
     "output_type": "stream",
     "text": [
      "First Citizen:\n",
      "Before we proceed any further, hear me speak.\n",
      "\n",
      "All:\n",
      "Speak, speak.\n",
      "\n",
      "First Citizen:\n",
      "You are all resolved rather to die than to famish?\n",
      "\n",
      "All:\n",
      "Resolved.\n"
     ]
    }
   ],
   "source": [
    "print(enc.decode(train_ids[:50]))"
   ]
  },
  {
   "attachments": {},
   "cell_type": "markdown",
   "id": "169c1d42-47b0-4a6b-9b5e-76ee74e5756b",
   "metadata": {
    "editable": true,
    "slideshow": {
     "slide_type": ""
    },
    "tags": []
   },
   "source": [
    "# GPT Model Class\n",
    "\n",
    "We will use the `model.py` file contains a GPT model class that was created by Andrej Karpathy. It was modeled after the one created by OpenAI.\n",
    "\n",
    "GPT, as the name implies, is based on the Transformer technology presented by Google in the paper, \"Attention Is All You Need.\" https://arxiv.org/pdf/1706.03762\n",
    "\n",
    "References:\n",
    "* Great Video by Andrej Karpathy - _Let's build GPT: from scratch, in code, spelled out._ - https://www.youtube.com/watch?v=kCc8FmEb1nY\n",
    "* nanoGPT - https://github.com/karpathy/nanoGPT\n",
    "* OpenAI GPT-2 - https://github.com/openai/gpt-2/blob/master/src/model.py"
   ]
  },
  {
   "cell_type": "markdown",
   "id": "b0a50c5c-2be8-4c98-b40f-ef90bab2516c",
   "metadata": {},
   "source": [
    "# Train a Model"
   ]
  },
  {
   "cell_type": "code",
   "execution_count": 50,
   "id": "2feda256-bd43-4879-a7f8-76bf62c031ea",
   "metadata": {},
   "outputs": [],
   "source": [
    "max_iters = 1000 # total number of training iterations\n",
    "checkpoint_file = f'model{max_iters}.pt'"
   ]
  },
  {
   "cell_type": "code",
   "execution_count": 51,
   "id": "213251e0-26e9-4461-a0ba-07d73edb17c9",
   "metadata": {
    "scrolled": true
   },
   "outputs": [
    {
     "name": "stdout",
     "output_type": "stream",
     "text": [
      "tokens per iteration will be: 15,360\n",
      "Initializing a new model from scratch\n",
      "Using vocab_size of GPT-2 of 50304 (50257 rounded up for efficiency)\n",
      "Number of parameters: 3.42M\n",
      "num decayed parameter tensors: 18, with 3,418,112 parameters\n",
      "num non-decayed parameter tensors: 9, with 576 parameters\n",
      "using fused AdamW: True\n",
      "compiling the model... (takes a ~minute)\n",
      "step 0: train loss 10.8197, val loss 10.8165\n",
      "iter 0: loss 10.8136, time 7005.80ms, mfu -100.00%\n",
      "iter 10: loss 10.8195, time 224.41ms, mfu 0.72%\n",
      "iter 20: loss 10.7911, time 223.81ms, mfu 0.60%\n",
      "iter 30: loss 10.8095, time 238.65ms, mfu 0.49%\n",
      "iter 40: loss 10.7644, time 228.39ms, mfu 0.48%\n",
      "iter 50: loss 10.7265, time 228.26ms, mfu 0.46%\n",
      "iter 60: loss 10.6919, time 166.62ms, mfu 0.47%\n",
      "iter 70: loss 10.6685, time 228.54ms, mfu 0.46%\n",
      "iter 80: loss 10.5965, time 228.65ms, mfu 0.45%\n",
      "iter 90: loss 10.5562, time 228.63ms, mfu 0.47%\n",
      "step 100: train loss 10.5333, val loss 10.5307\n",
      "saving checkpoint to model1000.pt\n",
      "iter 100: loss 10.5423, time 654.47ms, mfu 0.42%\n",
      "iter 110: loss 10.4646, time 114.17ms, mfu 0.71%\n",
      "iter 120: loss 10.4458, time 115.84ms, mfu 0.82%\n",
      "iter 130: loss 10.4100, time 114.76ms, mfu 0.86%\n",
      "iter 140: loss 10.3602, time 115.22ms, mfu 0.87%\n",
      "iter 150: loss 10.3366, time 114.53ms, mfu 0.88%\n",
      "iter 160: loss 10.2838, time 115.80ms, mfu 0.88%\n",
      "iter 170: loss 10.2114, time 114.42ms, mfu 0.88%\n",
      "iter 180: loss 10.1724, time 115.25ms, mfu 0.88%\n",
      "iter 190: loss 10.0836, time 115.61ms, mfu 0.88%\n",
      "step 200: train loss 10.0635, val loss 10.0735\n",
      "saving checkpoint to model1000.pt\n",
      "iter 200: loss 10.0685, time 899.63ms, mfu 0.80%\n",
      "iter 210: loss 9.9852, time 121.03ms, mfu 0.69%\n",
      "iter 220: loss 9.9390, time 127.05ms, mfu 0.76%\n",
      "iter 230: loss 9.8716, time 125.34ms, mfu 0.78%\n",
      "iter 240: loss 9.7912, time 110.66ms, mfu 0.86%\n",
      "iter 250: loss 9.7255, time 112.28ms, mfu 0.89%\n",
      "iter 260: loss 9.6378, time 111.23ms, mfu 0.90%\n",
      "iter 270: loss 9.5634, time 112.10ms, mfu 0.90%\n",
      "iter 280: loss 9.4627, time 112.63ms, mfu 0.90%\n",
      "iter 290: loss 9.4203, time 112.08ms, mfu 0.90%\n",
      "step 300: train loss 9.3315, val loss 9.3643\n",
      "saving checkpoint to model1000.pt\n",
      "iter 300: loss 9.3381, time 756.55ms, mfu 0.82%\n",
      "iter 310: loss 9.2109, time 113.67ms, mfu 0.87%\n",
      "iter 320: loss 9.1329, time 112.67ms, mfu 0.88%\n",
      "iter 330: loss 9.1095, time 113.10ms, mfu 0.89%\n",
      "iter 340: loss 8.9449, time 112.88ms, mfu 0.89%\n",
      "iter 350: loss 8.9057, time 113.32ms, mfu 0.90%\n",
      "iter 360: loss 8.7613, time 112.31ms, mfu 0.89%\n",
      "iter 370: loss 8.7341, time 111.60ms, mfu 0.90%\n",
      "iter 380: loss 8.6406, time 112.47ms, mfu 0.90%\n",
      "iter 390: loss 8.5324, time 111.30ms, mfu 0.91%\n",
      "step 400: train loss 8.4177, val loss 8.4927\n",
      "saving checkpoint to model1000.pt\n",
      "iter 400: loss 8.4186, time 748.63ms, mfu 0.83%\n",
      "iter 410: loss 8.2859, time 111.87ms, mfu 0.88%\n",
      "iter 420: loss 8.2237, time 111.83ms, mfu 0.90%\n",
      "iter 430: loss 8.1758, time 110.70ms, mfu 0.91%\n",
      "iter 440: loss 8.0503, time 112.29ms, mfu 0.91%\n",
      "iter 450: loss 7.9898, time 110.82ms, mfu 0.90%\n",
      "iter 460: loss 7.9666, time 112.32ms, mfu 0.91%\n",
      "iter 470: loss 7.9061, time 111.72ms, mfu 0.91%\n",
      "iter 480: loss 7.8556, time 112.33ms, mfu 0.91%\n",
      "iter 490: loss 7.5705, time 111.84ms, mfu 0.91%\n",
      "step 500: train loss 7.5247, val loss 7.6170\n",
      "saving checkpoint to model1000.pt\n",
      "iter 500: loss 7.6341, time 806.64ms, mfu 0.82%\n",
      "iter 510: loss 7.4326, time 227.60ms, mfu 0.58%\n",
      "iter 520: loss 7.2717, time 111.67ms, mfu 0.65%\n",
      "iter 530: loss 7.2138, time 111.93ms, mfu 0.82%\n",
      "iter 540: loss 7.2338, time 112.10ms, mfu 0.87%\n",
      "iter 550: loss 7.1282, time 113.05ms, mfu 0.89%\n",
      "iter 560: loss 7.1733, time 111.90ms, mfu 0.90%\n",
      "iter 570: loss 6.9770, time 112.12ms, mfu 0.90%\n",
      "iter 580: loss 7.0941, time 115.11ms, mfu 0.89%\n",
      "iter 590: loss 6.8452, time 114.52ms, mfu 0.89%\n",
      "step 600: train loss 6.7724, val loss 6.8880\n",
      "saving checkpoint to model1000.pt\n",
      "iter 600: loss 6.7801, time 763.71ms, mfu 0.81%\n",
      "iter 610: loss 6.7559, time 114.78ms, mfu 0.84%\n",
      "iter 620: loss 6.6330, time 114.40ms, mfu 0.87%\n",
      "iter 630: loss 6.6342, time 113.91ms, mfu 0.88%\n",
      "iter 640: loss 6.5238, time 114.19ms, mfu 0.88%\n",
      "iter 650: loss 6.3210, time 121.02ms, mfu 0.86%\n",
      "iter 660: loss 6.4468, time 112.92ms, mfu 0.88%\n",
      "iter 670: loss 6.3641, time 113.67ms, mfu 0.89%\n",
      "iter 680: loss 6.1576, time 113.90ms, mfu 0.89%\n",
      "iter 690: loss 6.1303, time 112.85ms, mfu 0.89%\n",
      "step 700: train loss 6.2155, val loss 6.3516\n",
      "saving checkpoint to model1000.pt\n",
      "iter 700: loss 6.3696, time 820.32ms, mfu 0.80%\n",
      "iter 710: loss 6.2559, time 228.12ms, mfu 0.57%\n",
      "iter 720: loss 5.9392, time 227.89ms, mfu 0.51%\n",
      "iter 730: loss 6.0300, time 228.29ms, mfu 0.47%\n",
      "iter 740: loss 6.1703, time 160.71ms, mfu 0.48%\n",
      "iter 750: loss 5.8877, time 228.53ms, mfu 0.47%\n",
      "iter 760: loss 5.9547, time 228.23ms, mfu 0.45%\n",
      "iter 770: loss 6.2852, time 227.24ms, mfu 0.47%\n",
      "iter 780: loss 5.7593, time 228.26ms, mfu 0.45%\n",
      "iter 790: loss 5.6941, time 228.51ms, mfu 0.48%\n",
      "step 800: train loss 5.7416, val loss 5.9647\n",
      "saving checkpoint to model1000.pt\n",
      "iter 800: loss 5.7217, time 828.46ms, mfu 0.43%\n",
      "iter 810: loss 5.6695, time 116.53ms, mfu 0.55%\n",
      "iter 820: loss 5.9867, time 114.59ms, mfu 0.77%\n",
      "iter 830: loss 5.5081, time 114.80ms, mfu 0.84%\n",
      "iter 840: loss 5.5274, time 114.50ms, mfu 0.87%\n",
      "iter 850: loss 5.5402, time 115.30ms, mfu 0.88%\n",
      "iter 860: loss 5.5787, time 113.13ms, mfu 0.88%\n",
      "iter 870: loss 5.7574, time 112.61ms, mfu 0.89%\n",
      "iter 880: loss 5.5911, time 113.72ms, mfu 0.89%\n",
      "iter 890: loss 5.5019, time 113.28ms, mfu 0.89%\n",
      "step 900: train loss 5.3757, val loss 5.6669\n",
      "saving checkpoint to model1000.pt\n",
      "iter 900: loss 5.3103, time 823.80ms, mfu 0.81%\n",
      "iter 910: loss 4.9109, time 227.62ms, mfu 0.57%\n",
      "iter 920: loss 5.3416, time 126.73ms, mfu 0.55%\n",
      "iter 930: loss 5.0324, time 114.22ms, mfu 0.76%\n",
      "iter 940: loss 5.2126, time 114.70ms, mfu 0.84%\n",
      "iter 950: loss 5.4013, time 118.69ms, mfu 0.87%\n",
      "iter 960: loss 4.8180, time 114.98ms, mfu 0.87%\n",
      "iter 970: loss 4.7105, time 114.30ms, mfu 0.88%\n",
      "iter 980: loss 4.9646, time 113.61ms, mfu 0.89%\n",
      "iter 990: loss 5.4102, time 112.65ms, mfu 0.89%\n",
      "step 1000: train loss 5.0461, val loss 5.4386\n",
      "saving checkpoint to model1000.pt\n",
      "iter 1000: loss 5.0347, time 857.63ms, mfu 0.82%\n",
      "saving checkpoint to model1000.pt\n"
     ]
    }
   ],
   "source": [
    "import os\n",
    "import time\n",
    "import math\n",
    "from contextlib import nullcontext\n",
    "\n",
    "import numpy as np\n",
    "import torch\n",
    "from model import GPTConfig, GPT\n",
    "\n",
    "# parameters\n",
    "eval_interval = 100\n",
    "log_interval = 1\n",
    "eval_iters = 200\n",
    "always_save_checkpoint = True # save a checkpoint after each eval_interval\n",
    "\n",
    "# data\n",
    "dataset = 'data' # directory where the data is stored\n",
    "gradient_accumulation_steps = 5 * 8 # used to simulate larger batch sizes\n",
    "batch_size = 12 # [12] if gradient_accumulation_steps > 1, this is the micro-batch size\n",
    "block_size = 32 # [32] content window size\n",
    "\n",
    "# model\n",
    "n_layer = 4 # 4 hidden layers\n",
    "n_head = 4  # 4 heads\n",
    "n_embd = 64 # 64 \n",
    "dropout = 0.0 # for pretraining 0 is good, for finetuning try 0.1+\n",
    "bias = False # do we use bias inside LayerNorm and Linear layers?\n",
    "\n",
    "# adamw optimizer\n",
    "learning_rate = 6e-4 # max learning rate\n",
    "weight_decay = 1e-1\n",
    "beta1 = 0.9\n",
    "beta2 = 0.95\n",
    "grad_clip = 1.0 # clip gradients at this value, or disable if == 0.0\n",
    "\n",
    "# learning rate decay settings\n",
    "decay_lr = True # whether to decay the learning rate\n",
    "warmup_iters = 2000 # how many steps to warm up for\n",
    "lr_decay_iters = 600000 # should be ~= max_iters per Chinchilla\n",
    "min_lr = 6e-5 # minimum learning rate, should be ~= learning_rate/10 per Chinchilla\n",
    "\n",
    "# system\n",
    "device = 'cuda' # examples: 'cpu', 'cuda', or try 'mps' on macbooks\n",
    "dtype = 'bfloat16' # 'float32', 'bfloat16', or 'float16'\n",
    "\n",
    "# capture above settings & parameters to save in model checkpoint\n",
    "config_keys = [k for k,v in globals().items() if not k.startswith('_') and isinstance(v, (int, float, bool, str))]\n",
    "config = {k: globals()[k] for k in config_keys} \n",
    "\n",
    "# various inits, derived attributes, I/O setup\n",
    "seed = 4212\n",
    "tokens_per_iter = gradient_accumulation_steps * batch_size * block_size\n",
    "print(f\"tokens per iteration will be: {tokens_per_iter:,}\")\n",
    "\n",
    "# set the random seed\n",
    "torch.manual_seed(1337)\n",
    "torch.backends.cuda.matmul.allow_tf32 = True # allow tf32 on matmul\n",
    "torch.backends.cudnn.allow_tf32 = True # allow tf32 on cudnn\n",
    "device_type = 'cuda' if 'cuda' in device else 'cpu' # for later use in torch.autocast\n",
    "# note: float16 data type will automatically use a GradScaler\n",
    "ptdtype = {'float32': torch.float32, 'bfloat16': torch.bfloat16, 'float16': torch.float16}[dtype]\n",
    "ctx = nullcontext() if device_type == 'cpu' else torch.amp.autocast(device_type=device_type, dtype=ptdtype)\n",
    "\n",
    "# Load the data\n",
    "data_dir = 'data/'\n",
    "train_data = np.memmap(os.path.join(data_dir, 'train.bin'), dtype=np.uint16, mode='r')\n",
    "val_data = np.memmap(os.path.join(data_dir, 'val.bin'), dtype=np.uint16, mode='r')\n",
    "\n",
    "# get a batch from the data\n",
    "def get_batch(split):\n",
    "    data = train_data if split == 'train' else val_data\n",
    "    ix = torch.randint(len(data) - block_size, (batch_size,))\n",
    "    x = torch.stack([torch.from_numpy((data[i:i+block_size]).astype(np.int64)) for i in ix])\n",
    "    y = torch.stack([torch.from_numpy((data[i+1:i+1+block_size]).astype(np.int64)) for i in ix])\n",
    "    if device_type == 'cuda':\n",
    "        # pin arrays x,y, which allows us to move them to GPU asynchronously (non_blocking=True)\n",
    "        x, y = x.pin_memory().to(device, non_blocking=True), y.pin_memory().to(device, non_blocking=True)\n",
    "    else:\n",
    "        x, y = x.to(device), y.to(device)\n",
    "    return x, y\n",
    "\n",
    "# loop counters starting point\n",
    "iter_num = 0\n",
    "best_val_loss = 1e9\n",
    "\n",
    "# init a new model from scratch\n",
    "print(\"Initializing a new model from scratch\")\n",
    "print(\"Using vocab_size of GPT-2 of 50304 (50257 rounded up for efficiency)\")\n",
    "model_args = dict(n_layer=n_layer, n_head=n_head, n_embd=n_embd, block_size=block_size,\n",
    "                  bias=bias, vocab_size=50304, dropout=dropout) \n",
    "gptconf = GPTConfig(**model_args)\n",
    "model = GPT(gptconf)\n",
    "\n",
    "# crop down the model block size if desired, using model surgery\n",
    "if block_size < model.config.block_size:\n",
    "    model.crop_block_size(block_size)\n",
    "    model_args['block_size'] = block_size # so that the checkpoint will have the right value\n",
    "model.to(device)\n",
    "\n",
    "# initialize a GradScaler\n",
    "#scaler = torch.cuda.amp.GradScaler(enabled=(dtype == 'float16'))\n",
    "scaler = torch.amp.GradScaler(device_type, enabled=(dtype == 'float16'))\n",
    "\n",
    "# optimizer\n",
    "optimizer = model.configure_optimizers(weight_decay, learning_rate, (beta1, beta2), device_type)\n",
    "checkpoint = None # free up memory\n",
    "\n",
    "# compile the model if not using MPS\n",
    "if device == 'mps':\n",
    "    print(\"MPS doesn't support JIT compilation, skipping...\")\n",
    "else:\n",
    "    print(\"compiling the model... (takes a ~minute)\")\n",
    "    model = torch.compile(model) # requires PyTorch 2.0\n",
    "\n",
    "# helps estimate an arbitrarily accurate loss over either split using many batches\n",
    "@torch.no_grad()\n",
    "def estimate_loss():\n",
    "    out = {}\n",
    "    \n",
    "    model.eval()\n",
    "    for split in ['train', 'val']:\n",
    "        losses = torch.zeros(eval_iters)\n",
    "        for k in range(eval_iters):\n",
    "            X, Y = get_batch(split)\n",
    "            with ctx:\n",
    "                logits, loss = model(X, Y)\n",
    "            losses[k] = loss.item()\n",
    "        out[split] = losses.mean()\n",
    "    model.train()\n",
    "    return out\n",
    "\n",
    "# learning rate decay scheduler (cosine with warmup)\n",
    "def get_lr(it):\n",
    "    # 1) linear warmup for warmup_iters steps\n",
    "    if it < warmup_iters:\n",
    "        return learning_rate * it / warmup_iters\n",
    "    # 2) if it > lr_decay_iters, return min learning rate\n",
    "    if it > lr_decay_iters:\n",
    "        return min_lr\n",
    "    # 3) in between, use cosine decay down to min learning rate\n",
    "    decay_ratio = (it - warmup_iters) / (lr_decay_iters - warmup_iters)\n",
    "    assert 0 <= decay_ratio <= 1\n",
    "    coeff = 0.5 * (1.0 + math.cos(math.pi * decay_ratio)) # coeff ranges 0..1\n",
    "    return min_lr + coeff * (learning_rate - min_lr)\n",
    "\n",
    "# save model to checkpoint file\n",
    "def save_model(fn):\n",
    "    checkpoint = {\n",
    "        'model': raw_model.state_dict(),\n",
    "        'optimizer': optimizer.state_dict(),\n",
    "        'model_args': model_args,\n",
    "        'iter_num': iter_num,\n",
    "        'best_val_loss': best_val_loss,\n",
    "        'config': config,\n",
    "    }\n",
    "    print(f\"saving checkpoint to {fn}\")\n",
    "    torch.save(checkpoint, fn)\n",
    "\n",
    "# training loop\n",
    "X, Y = get_batch('train') # fetch the very first batch\n",
    "t0 = time.time()\n",
    "local_iter_num = 0 # number of iterations in the lifetime of this process\n",
    "raw_model = model\n",
    "running_mfu = -1.0\n",
    "while True:\n",
    "    try:\n",
    "        # determine and set the learning rate for this iteration\n",
    "        lr = get_lr(iter_num) if decay_lr else learning_rate\n",
    "        for param_group in optimizer.param_groups:\n",
    "            param_group['lr'] = lr\n",
    "    \n",
    "        # evaluate the loss on train/val sets and write checkpoints\n",
    "        if iter_num % eval_interval == 0 or iter_num >= max_iters:\n",
    "            losses = estimate_loss()\n",
    "            print(f\"step {iter_num}: train loss {losses['train']:.4f}, val loss {losses['val']:.4f}\")\n",
    "            if losses['val'] < best_val_loss or always_save_checkpoint:\n",
    "                best_val_loss = losses['val']\n",
    "                if iter_num > 0:\n",
    "                    save_model(checkpoint_file)\n",
    "    \n",
    "        # forward backward update, with optional gradient accumulation to simulate larger batch size\n",
    "        # and using the GradScaler if data type is float16\n",
    "        for micro_step in range(gradient_accumulation_steps):\n",
    "            with ctx:\n",
    "                logits, loss = model(X, Y)\n",
    "                loss = loss / gradient_accumulation_steps # scale the loss to account for gradient accumulation\n",
    "            # immediately async prefetch next batch while model is doing the forward pass on the GPU\n",
    "            X, Y = get_batch('train')\n",
    "            # backward pass, with gradient scaling if training in fp16\n",
    "            scaler.scale(loss).backward()\n",
    "        # clip the gradient\n",
    "        if grad_clip != 0.0:\n",
    "            scaler.unscale_(optimizer)\n",
    "            torch.nn.utils.clip_grad_norm_(model.parameters(), grad_clip)\n",
    "        # step the optimizer and scaler if training in fp16\n",
    "        scaler.step(optimizer)\n",
    "        scaler.update()\n",
    "        # flush the gradients as soon as we can, no need for this memory anymore\n",
    "        optimizer.zero_grad(set_to_none=True)\n",
    "    \n",
    "        # timing and logging\n",
    "        t1 = time.time()\n",
    "        dt = t1 - t0\n",
    "        t0 = t1\n",
    "        if iter_num % log_interval == 0:\n",
    "            # get loss as float. note: this is a CPU-GPU sync point\n",
    "            # scale up to undo the division above, approximating the true total loss (exact would have been a sum)\n",
    "            lossf = loss.item() * gradient_accumulation_steps\n",
    "            if local_iter_num >= 5: # let the training loop settle a bit\n",
    "                mfu = raw_model.estimate_mfu(batch_size * gradient_accumulation_steps, dt)\n",
    "                running_mfu = mfu if running_mfu == -1.0 else 0.9*running_mfu + 0.1*mfu\n",
    "            if iter_num % 10 == 0:\n",
    "                print(f\"iter {iter_num}: loss {lossf:.4f}, time {dt*1000:.2f}ms, mfu {running_mfu*100:.2f}%\")\n",
    "        iter_num += 1\n",
    "        local_iter_num += 1\n",
    "    \n",
    "        # termination conditions\n",
    "        if iter_num > max_iters:\n",
    "            break\n",
    "\n",
    "    except KeyboardInterrupt:\n",
    "        print(\"User requested exit, saving checkpoint\")\n",
    "        break\n",
    "\n",
    "save_model(checkpoint_file)"
   ]
  },
  {
   "cell_type": "code",
   "execution_count": 45,
   "id": "bd26b605",
   "metadata": {},
   "outputs": [
    {
     "name": "stdout",
     "output_type": "stream",
     "text": [
      "10.825839875788878\n"
     ]
    }
   ],
   "source": [
    "# Worst-case loss when using Cross-Entropy Loss function\n",
    "import math\n",
    "vocab_size=50304\n",
    "worse_case = -math.log(1/vocab_size)\n",
    "print(worse_case)"
   ]
  },
  {
   "cell_type": "markdown",
   "id": "e419183b-a46e-47f7-94c0-9533e3e7c494",
   "metadata": {},
   "source": [
    "# Inference"
   ]
  },
  {
   "cell_type": "code",
   "execution_count": 53,
   "id": "6a788d30-436d-4c41-9cb1-4b3c6fe50e57",
   "metadata": {
    "editable": true,
    "slideshow": {
     "slide_type": ""
    },
    "tags": []
   },
   "outputs": [],
   "source": [
    "#checkpoint_file = 'model6000.pt'"
   ]
  },
  {
   "cell_type": "code",
   "execution_count": 56,
   "id": "1722e6d5-8709-4f6c-83a1-31aac3cc363b",
   "metadata": {
    "editable": true,
    "slideshow": {
     "slide_type": ""
    },
    "tags": []
   },
   "outputs": [
    {
     "name": "stdout",
     "output_type": "stream",
     "text": [
      "Checkpoint: model6000.pt\n",
      "Number of parameters: 3.42M\n",
      "\n",
      "That which I should say, Henry of thy title\n",
      "Lone I have got from Henry;\n",
      "For Warwick in another day she lives dead.\n",
      "But let us blame her company: my liege,\n",
      "When time I tender\n",
      "Will do thee right of Clarence, when I am here.\n",
      "Dail your children bring most capital stout, not with night,\n",
      "One of your purse to no thing to the commons,\n",
      "That they did try who's hands if thou return'st,\n",
      "My body nor time to give your person:\n",
      "To give the second arbitrateurl'd down itself.\n",
      "Be lecher in the princess, springs the contrary?\n",
      "\n",
      "ISABELLA:\n",
      "Put not your drum, the dead gate,\n",
      "And one once; for that with the war's current means:\n",
      "We have not forgot to-day. If you had,\n",
      "That may have done, you can shut; for I am\n",
      "A senseless runn in advantages,\n",
      "By his party frown;nitence the law is;\n",
      "And beg their untainted. Would thy alms? is the\n",
      "Is it not as bad? or you now.\n",
      "\n",
      "LEONTES:\n",
      "What?\n",
      "\n",
      "SICINIUS:\n",
      "Spesame shame, which dare no more itself is counted\n",
      "Than I should had more, between that I'll buy this\n",
      "To Rome.\n",
      "\n",
      "ABRAHAM:\n",
      "You had a sister, nor any man,\n",
      "Which you have yet said 'Hrow the duke himself is grown\n",
      "bed, that's a villain more, being such without such emulation\n",
      "Will tell 'she's! who, was the gods, if I know it.\n",
      "\n",
      "GRUMIO:\n",
      "Faith, if you meet me in the paucasudge and\n",
      "ANGELO:\n",
      "You must out my blood dislike it with me to be!\n",
      "Thus, I beseech your'll: my count, and I pray thee,\n",
      "Till I will to the dead? O good my kindness do I:\n",
      "Do it take it to my request that?\n",
      "If it may remain with you first his shroud,\n",
      "More than a pilot cannot help us all theirlysseding;\n",
      "The holding the citizens of shallowfatal--\n",
      "From yonder without Roman! We swear thenant\n",
      "But virtuous treason as much as all rebuke it\n",
      "And that, with those their hearts: let it speak,--\n",
      "\n",
      "Citizens\n"
     ]
    }
   ],
   "source": [
    "from contextlib import nullcontext\n",
    "import torch\n",
    "import tiktoken\n",
    "from model import GPTConfig, GPT\n",
    "\n",
    "print(f\"Checkpoint: {checkpoint_file}\")\n",
    "\n",
    "# inference parameters\n",
    "max_tokens = 500 # number of tokens generated in each sample\n",
    "temperature = 1.0 # 1.0 = no change, < 1.0 = less random, > 1.0 = more random, in predictions\n",
    "top_k = 200 # retain only the top_k most likely tokens, clamp others to have 0 probability\n",
    "seed = 1334\n",
    "device = 'cuda'\n",
    "dtype = 'bfloat16'\n",
    "\n",
    "torch.manual_seed(seed)\n",
    "torch.cuda.manual_seed(seed)\n",
    "torch.backends.cuda.matmul.allow_tf32 = True # allow tf32 on matmul\n",
    "torch.backends.cudnn.allow_tf32 = True # allow tf32 on cudnn\n",
    "device_type = 'cuda' if 'cuda' in device else 'cpu' # for torch.autocast\n",
    "ptdtype = {'float32': torch.float32, 'bfloat16': torch.bfloat16, 'float16': torch.float16}[dtype]\n",
    "ctx = nullcontext() if device_type == 'cpu' else torch.amp.autocast(device_type=device_type, dtype=ptdtype)\n",
    "\n",
    "# load model saved in a specific directory\n",
    "checkpoint = torch.load(checkpoint_file, map_location=device, weights_only=True)\n",
    "gptconf = GPTConfig(**checkpoint['model_args'])\n",
    "model = GPT(gptconf)\n",
    "state_dict = checkpoint['model']\n",
    "unwanted_prefix = '_orig_mod.'\n",
    "for k,v in list(state_dict.items()):\n",
    "    if k.startswith(unwanted_prefix):\n",
    "        state_dict[k[len(unwanted_prefix):]] = state_dict.pop(k)\n",
    "model.load_state_dict(state_dict)\n",
    "model.eval()\n",
    "model.to(device)\n",
    "enc = tiktoken.get_encoding(\"gpt2\")\n",
    "\n",
    "# set prompt\n",
    "prompt = \"\\n\"\n",
    "start_ids = enc.encode(prompt, allowed_special={\"<|endoftext|>\"})\n",
    "x = (torch.tensor(start_ids, dtype=torch.long, device=device)[None, ...])\n",
    "\n",
    "# run generation\n",
    "with torch.no_grad():\n",
    "    with ctx:\n",
    "        y = model.generate(x, max_tokens, temperature=temperature, top_k=top_k)\n",
    "        output = y[0].tolist()\n",
    "        for w in output:\n",
    "            if w > 50257: # max token value, ignore the rest\n",
    "                continue\n",
    "            else:\n",
    "                text = enc.decode([w])\n",
    "                if text == '\\n':\n",
    "                    print()\n",
    "                else:\n",
    "                    print(text, end='')\n",
    "                \n",
    "print(\"\")\n"
   ]
  },
  {
   "cell_type": "code",
   "execution_count": null,
   "id": "7b30b98e-12f8-4f11-b489-7619310b2275",
   "metadata": {},
   "outputs": [],
   "source": []
  },
  {
   "cell_type": "markdown",
   "id": "e5b4f116-fda5-43f8-9e2f-2ffe5a9ca8ee",
   "metadata": {},
   "source": [
    "## References\n",
    "\n",
    "* Standford Univesity - CS231n: Deep Learning for Computer Vision - https://cs231n.github.io/neural-networks-1/\n",
    "* Visual Transformer, Explained - https://poloclub.github.io/transformer-explainer/\n",
    "* Cousera: Generative Ai with LLMs - https://www.coursera.org/learn/generative-ai-with-llms\n",
    "* Attention is All You Need by Vaswani et al. in 2017 - https://arxiv.org/abs/1706.03762\n",
    "* The Illustrated Transformer by Jay Alammar - https://jalammar.github.io/illustrated-transformer/\n",
    "* Visualizing Attention, a Transformer's Heart - https://www.3blue1brown.com/lessons/attention\n",
    "* Let's build GPT: from scratch, in code, spelled out. - by Andrej Karpathy - https://www.youtube.com/watch?v=kCc8FmEb1nY\n",
    "* nanoGPT by Andrej Karpathy - https://github.com/karpathy/nanoGPT\n",
    "* OpenAI GPT-2 - https://github.com/openai/gpt-2/blob/master/src/model.py"
   ]
  },
  {
   "cell_type": "code",
   "execution_count": null,
   "id": "b12f16dd-19af-427c-96ec-c144636c3307",
   "metadata": {},
   "outputs": [],
   "source": []
  }
 ],
 "metadata": {
  "kernelspec": {
   "display_name": "Python 3 (ipykernel)",
   "language": "python",
   "name": "python3"
  },
  "language_info": {
   "codemirror_mode": {
    "name": "ipython",
    "version": 3
   },
   "file_extension": ".py",
   "mimetype": "text/x-python",
   "name": "python",
   "nbconvert_exporter": "python",
   "pygments_lexer": "ipython3",
   "version": "3.11.7"
  }
 },
 "nbformat": 4,
 "nbformat_minor": 5
}
