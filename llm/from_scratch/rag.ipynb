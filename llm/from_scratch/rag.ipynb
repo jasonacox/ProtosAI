{
 "cells": [
  {
   "cell_type": "code",
   "execution_count": null,
   "id": "0dd03825-60d6-4025-abd8-473bb71c13d2",
   "metadata": {
    "scrolled": true
   },
   "outputs": [],
   "source": [
    "!pip install sentence_transformers"
   ]
  },
  {
   "cell_type": "markdown",
   "id": "41db5829-76b1-4c4b-8c04-7a3b619d3b2f",
   "metadata": {},
   "source": [
    "# Retrieval-Augmented Generation (RAG)\n",
    "\n",
    "Using Sentence Transformers and Vector Databases for Natural Language Search\n",
    "\n",
    "# Sentence Transformers\n",
    "\n",
    "Sentence Transformers are a type of transformer-based neural network designed to generate high-quality sentence embeddings, which are dense vector representations of sentences. These embeddings can be used for various natural language processing (NLP) tasks, such as semantic search, clustering, paraphrase detection, and more. Sentence Transformers build on top of pre-trained transformer models like BERT, RoBERTa, and others, and fine-tune them specifically to produce meaningful embeddings for sentences or longer text spans.\n",
    "\n"
   ]
  },
  {
   "cell_type": "code",
   "execution_count": 6,
   "id": "e5dbd7ab-c526-4da2-b3d5-d5695959462c",
   "metadata": {
    "scrolled": true
   },
   "outputs": [
    {
     "name": "stdout",
     "output_type": "stream",
     "text": [
      "Sentence: This is an example sentence.\n",
      "Embedding: [ 9.81245711e-02  6.78127110e-02  6.25232309e-02  9.50847939e-02\n",
      "  3.66476364e-02 -3.98458866e-03  7.47759966e-03 -1.32313929e-02\n",
      "  6.28837124e-02  2.24955045e-02  7.26956800e-02 -3.12743150e-02\n",
      "  4.63550873e-02 -1.25545394e-02  4.78147976e-02 -4.91032843e-03\n",
      "  4.94200438e-02 -6.41093552e-02 -9.69658643e-02  3.28887068e-02\n",
      "  5.41043878e-02  3.53286453e-02  3.30506228e-02  1.46993687e-02\n",
      " -3.34306844e-02 -2.56157573e-02 -5.07921092e-02  7.32545778e-02\n",
      "  1.10274017e-01 -2.96618957e-02 -6.75570890e-02 -3.05714905e-02\n",
      "  3.95602100e-02  4.54760306e-02  1.59962233e-02  3.85503471e-02\n",
      " -1.09540550e-02  8.48357081e-02 -4.42870818e-02 -6.79645035e-03\n",
      "  9.42566060e-03  5.07504992e-05  1.30359922e-03 -1.19697684e-02\n",
      "  1.36451218e-02 -8.41742828e-02 -1.65131452e-04  5.48379449e-03\n",
      "  2.56151389e-02 -3.15452851e-02 -1.07344717e-01 -4.57877778e-02\n",
      " -9.11749303e-02 -2.51047732e-03  1.79983862e-02  4.94016483e-02\n",
      "  6.18480612e-03  5.97963221e-02  2.70026084e-02 -1.61222648e-02\n",
      " -1.81497559e-02 -2.36348603e-02 -9.48971808e-02  6.62162974e-02\n",
      "  1.49227440e-01  2.43388209e-02  1.21022854e-03  6.07206440e-03\n",
      " -9.91704240e-02  8.50581229e-02  3.08261849e-02  2.91866399e-02\n",
      " -2.39560008e-02 -1.05593437e-02 -7.21520633e-02 -3.52563374e-02\n",
      "  3.33465710e-02 -4.39295508e-02  1.19755171e-01  8.86475146e-02\n",
      " -9.59190279e-02 -5.90801612e-02 -8.29272438e-03  3.81692126e-02\n",
      "  4.97997366e-02 -3.26820798e-02  1.99010186e-02 -1.08378626e-01\n",
      "  1.46790454e-02  1.81178451e-02 -6.13179542e-02 -8.97503346e-02\n",
      "  4.92216609e-02 -2.08710041e-02  4.05507674e-03 -3.54301035e-02\n",
      " -5.65778166e-02 -4.83138375e-02 -2.46602725e-02  7.35917985e-02\n",
      " -2.09235623e-02  4.06976379e-02  3.23265083e-02  7.66835064e-02\n",
      " -1.47476001e-02 -1.03045247e-01 -4.27448787e-02 -6.62931651e-02\n",
      "  1.54741053e-02 -2.68002972e-02 -9.17519629e-02 -3.56004499e-02\n",
      " -1.89325176e-02 -4.02956363e-03 -2.01934204e-02 -5.85347973e-02\n",
      " -1.01801716e-01 -4.48784698e-03 -6.97630197e-02  6.02410436e-02\n",
      "  2.98108049e-02  6.38082772e-02 -6.73061311e-02  3.35095590e-03\n",
      " -6.00398518e-02 -9.31366310e-02  4.56749871e-02 -6.71992431e-33\n",
      "  7.43321376e-03 -6.51096776e-02 -2.12591272e-02  3.51960808e-02\n",
      "  4.63361628e-02 -7.03049153e-02 -6.12895302e-02  1.73666310e-02\n",
      " -7.47974869e-03 -1.84687860e-02  1.60746567e-03 -2.58018635e-02\n",
      "  3.00469622e-02  8.75161029e-03  5.09295762e-02  7.17161596e-02\n",
      " -7.27178976e-02  1.32615134e-01 -8.03415105e-03  3.69323082e-02\n",
      " -2.36913469e-02  2.42693834e-02 -2.63961796e-02 -1.83385182e-02\n",
      " -1.47533286e-02 -7.43173808e-02  1.63448919e-02  1.80370454e-02\n",
      " -3.12331878e-03  4.12826352e-02  5.05986996e-02  4.44948524e-02\n",
      " -4.75530624e-02 -2.62649893e-03  5.46678007e-02  4.69779447e-02\n",
      "  6.37982786e-02 -2.18367912e-02  1.19201455e-03  6.15496514e-03\n",
      " -1.04747079e-02 -5.15488163e-02  2.17189547e-02 -3.78721766e-02\n",
      "  8.79114494e-02  2.36575659e-02  1.98857300e-02  2.17431094e-02\n",
      " -6.19210787e-02  2.06161346e-02 -1.06869498e-02  5.77621646e-02\n",
      "  5.94028793e-02 -2.88755186e-02  6.94770738e-02  1.01363531e-03\n",
      "  4.20079380e-02  3.47520486e-02 -1.66474283e-03 -1.01280985e-02\n",
      " -5.47199771e-02  4.05647010e-02 -5.60163260e-02  5.72631881e-02\n",
      " -2.57609971e-02  2.93969214e-02  1.02985064e-02 -4.91524674e-02\n",
      "  1.54276481e-02  2.86933035e-02  1.16815204e-02 -6.96878647e-03\n",
      " -8.34677070e-02  1.08369917e-01 -4.19825613e-02 -4.26629931e-02\n",
      " -2.18973290e-02 -2.16259398e-02 -7.85212126e-03  3.82204130e-02\n",
      " -1.80089585e-02 -1.49435565e-01  2.32264325e-02  1.50284776e-02\n",
      " -3.98940183e-02  3.75165651e-03  4.30066846e-02 -8.47545639e-02\n",
      " -3.02968491e-02 -2.01307237e-02 -2.50301324e-02  3.52596561e-03\n",
      "  5.82347624e-02  5.49475383e-03  6.48979051e-03  3.17468257e-33\n",
      " -4.24382426e-02  2.99221687e-02 -8.83619413e-02  6.57530501e-02\n",
      "  1.04630806e-01 -8.89661070e-03  4.28944267e-02 -9.55054685e-02\n",
      "  3.16817760e-02  7.35275596e-02 -1.30848795e-01  2.55299583e-02\n",
      "  1.60622224e-02 -4.37560724e-03  2.92025879e-02 -8.13408569e-03\n",
      "  6.52574375e-02  6.21525862e-04 -7.83575792e-03  4.15606871e-02\n",
      " -4.37204428e-02  9.50403139e-02 -2.58426201e-02  8.70165378e-02\n",
      " -4.14714925e-02  3.54404747e-02 -1.43871456e-02 -2.60752589e-02\n",
      " -9.59003940e-02 -8.88149533e-03  7.06997374e-03 -9.05237868e-02\n",
      " -7.97419846e-02 -1.42276250e-02 -5.34899347e-02  5.12256734e-02\n",
      "  2.45407671e-02 -3.69745828e-02 -7.34109655e-02 -6.87430101e-03\n",
      "  6.81257248e-03 -3.29183266e-02  1.57906767e-02  1.05945550e-01\n",
      "  2.27151513e-02 -5.64173125e-02 -3.20642069e-02 -1.05091512e-01\n",
      " -3.29045765e-02  5.13919145e-02 -1.00346453e-01  4.49952707e-02\n",
      " -3.29613388e-02 -1.96408816e-02 -1.05408967e-01  1.19736716e-02\n",
      " -1.11708865e-02 -6.95774108e-02 -9.78974998e-03  1.60108637e-02\n",
      " -5.11795394e-02  8.79132841e-03 -6.57613575e-03  6.62925318e-02\n",
      "  1.09561153e-01 -5.47593310e-02 -5.70932887e-02  5.02976589e-02\n",
      "  1.26224766e-02  2.84540206e-02  1.34376824e-01  1.10136745e-02\n",
      " -1.51951641e-01 -4.94760759e-02 -6.53733239e-02 -6.70924038e-02\n",
      " -6.96974620e-02 -3.12956758e-02 -6.17660619e-02 -7.42039904e-02\n",
      "  2.89738197e-02 -8.31243582e-03  4.32192571e-02 -1.75574049e-02\n",
      " -5.17868018e-03 -5.43243624e-02 -4.12755497e-02 -8.27068910e-02\n",
      " -1.59864537e-02  8.61800089e-03  6.25542947e-04 -6.52350262e-02\n",
      "  7.92634562e-02  2.68022437e-02 -2.54141223e-02 -1.96517504e-08\n",
      " -2.25327462e-02 -1.51006905e-02  8.19408298e-02 -3.95903848e-02\n",
      "  4.71108072e-02  1.52062476e-02  6.53767362e-02  1.84354037e-02\n",
      " -7.97170028e-03 -3.77311222e-02  2.30440907e-02  4.04502749e-02\n",
      " -5.69721051e-02 -3.06998892e-03  5.36663085e-02  6.09493181e-02\n",
      "  3.83155271e-02 -3.80756296e-02 -2.67545283e-02  6.74039349e-02\n",
      " -5.41769527e-02  4.58982475e-02 -1.29086133e-02  1.50684295e-02\n",
      "  3.30093130e-02  4.98077460e-03  4.34085913e-02  6.51896298e-02\n",
      "  1.62157025e-02  3.61370631e-02  5.56742214e-02  1.19041115e-01\n",
      "  2.40565762e-02  1.51418177e-02  6.05637953e-02  3.68196517e-02\n",
      "  4.12562862e-02 -3.15589719e-02  5.62543981e-02 -2.57559139e-02\n",
      "  1.33293401e-02  4.84407619e-02 -2.17747465e-02  1.10081136e-01\n",
      "  3.85895446e-02  3.80591266e-02 -4.87106433e-03 -4.32833172e-02\n",
      " -2.53740996e-02  1.60137340e-02  1.83309428e-02  5.63806221e-02\n",
      "  3.46150324e-02 -2.06598844e-02  2.12776419e-02  1.89378653e-02\n",
      "  3.38344425e-02 -6.96243485e-03 -2.43259780e-02 -1.97802987e-02\n",
      " -1.98953114e-02  3.46440710e-02  4.96272668e-02 -2.92129777e-02]\n",
      "\n",
      "Sentence: Each sentence is converted into a vector representation.\n",
      "Embedding: [ 2.40300689e-02  5.28019406e-02 -9.86155123e-03 -1.01399480e-03\n",
      "  2.75670812e-02  5.42882755e-02  2.39628796e-02 -4.99531068e-02\n",
      "  5.99545762e-02  3.57642653e-04  4.82564643e-02  6.35841861e-03\n",
      " -9.71211586e-03  8.76961183e-03 -3.68234403e-02  5.10364398e-02\n",
      " -9.54403803e-02  4.43309024e-02 -2.96982210e-02 -2.81055495e-02\n",
      "  6.04076311e-02  6.40270859e-02 -2.36071218e-02 -1.57491639e-02\n",
      "  2.91545372e-02  1.32418200e-01 -1.03059551e-02 -4.05287147e-02\n",
      "  4.42474820e-02 -7.84507301e-03 -2.52632890e-04  3.49018835e-02\n",
      "  2.49423664e-02  1.18529156e-01 -4.87659425e-02  4.79588956e-02\n",
      " -2.31843237e-02  5.95344603e-02 -3.76636386e-02  6.55046373e-04\n",
      "  3.22715119e-02  1.71772130e-02 -5.24164643e-03  6.73209131e-02\n",
      "  1.06382079e-01 -8.71627498e-03 -7.47400224e-02 -3.60966139e-02\n",
      " -1.13132941e-02 -1.42069850e-02 -1.19920217e-01  1.81143954e-02\n",
      " -4.51268218e-02  3.73492166e-02 -5.18978946e-02 -8.90506897e-03\n",
      " -1.16140908e-02  2.49322318e-02  1.53020341e-02 -8.52011070e-02\n",
      " -7.50520602e-02 -1.69398747e-02 -1.02590546e-02  8.75277743e-02\n",
      "  9.80618522e-02 -4.29860726e-02 -1.91505123e-02  4.97248024e-02\n",
      " -8.94795731e-02  3.15694101e-02 -1.26096070e-01  3.42155546e-02\n",
      " -6.55369237e-02 -3.08279209e-02 -5.24947010e-02  4.50933091e-02\n",
      "  7.98617862e-03 -6.66311104e-03  1.24617837e-01  1.22199338e-02\n",
      " -2.48713084e-02 -4.59046811e-02 -1.22873830e-02  2.64961626e-02\n",
      "  7.31179640e-02  3.37225385e-02  8.40692502e-03 -6.63909763e-02\n",
      " -1.27341971e-02  3.85985635e-02 -6.38310760e-02 -6.65318146e-02\n",
      "  8.84257555e-02  6.40894473e-02 -7.10771699e-03  4.45582829e-02\n",
      "  7.92175625e-03  3.48423724e-03  1.05444171e-01  5.44336252e-02\n",
      "  4.68408801e-02  7.31023820e-03  1.78420320e-02 -5.04855551e-02\n",
      " -1.14540420e-01 -3.71386297e-02  1.71474963e-02 -4.45581712e-02\n",
      "  5.88810164e-03 -7.66257197e-02 -4.68798466e-02 -3.79305310e-03\n",
      " -2.93758530e-02 -1.41809536e-02 -2.55418848e-03  2.11409922e-03\n",
      " -4.25101891e-02 -5.83263673e-03  4.34283614e-02  4.67874520e-02\n",
      " -4.03613746e-02  5.69725521e-02 -7.02408003e-03  7.33126327e-02\n",
      " -5.68342395e-02 -8.15268904e-02  2.12218184e-02 -2.66303213e-33\n",
      " -7.95641318e-02 -6.82588943e-05 -9.56851617e-03  2.16582716e-02\n",
      " -4.96154986e-02  4.93096821e-02 -4.70853262e-02  2.24235766e-02\n",
      " -3.71056274e-02  1.23774102e-02 -6.55386597e-02 -4.09418382e-02\n",
      "  1.01065803e-02  1.44187763e-01 -1.15535818e-02 -3.68588790e-03\n",
      "  1.84188709e-02  1.35439923e-02 -1.65253729e-02 -5.59578650e-02\n",
      "  1.19677717e-02  9.05970410e-02 -2.80768275e-02 -1.96964461e-02\n",
      " -4.85519432e-02 -3.21948938e-02  6.75377920e-02 -6.25989661e-02\n",
      " -1.00033134e-01 -3.01546063e-02 -6.03892505e-02 -4.40774634e-02\n",
      " -3.40266270e-03  2.15627234e-02  8.53885524e-03  4.42587286e-02\n",
      "  9.42335203e-02 -3.52652855e-02  1.13135017e-02 -3.58465500e-02\n",
      " -2.81507242e-02 -1.89829096e-02  5.64446906e-04 -9.42917261e-03\n",
      " -3.76207493e-02  7.49302357e-02  8.22044257e-03  3.56949717e-02\n",
      "  1.21748075e-02 -8.51367041e-03 -3.21847014e-02  2.63632257e-02\n",
      "  2.57479083e-02 -1.10569922e-02  9.90873426e-02  6.71744347e-02\n",
      " -1.84812006e-02  5.43257408e-02  1.97673123e-02  5.14699728e-04\n",
      "  6.01322483e-03  8.13627094e-02  6.14522919e-02 -3.16138081e-02\n",
      "  4.05809935e-03 -5.38353026e-02 -3.91097814e-02  5.08388178e-03\n",
      "  5.36185056e-02  1.00893132e-01 -6.20237403e-02  4.30310331e-02\n",
      " -2.28822548e-02 -8.98665749e-03 -3.01172975e-02  5.29902391e-02\n",
      " -2.53615808e-02 -6.59607947e-02 -3.69860753e-02  8.38828832e-02\n",
      " -6.18485212e-02 -1.86688192e-02  4.75769415e-02 -2.44881995e-02\n",
      " -2.48535611e-02 -3.24011669e-02  2.99229808e-02 -1.66317150e-01\n",
      "  6.45975918e-02  3.28560583e-02  3.02780364e-02 -5.42651005e-02\n",
      " -3.25036654e-03 -2.94460058e-02 -7.27263698e-03  7.34221027e-34\n",
      " -7.49951378e-02  6.29874021e-02 -9.28261131e-02  1.65760666e-02\n",
      " -4.65285964e-02 -7.71033615e-02 -1.39948232e-02 -9.18570440e-03\n",
      "  8.71775299e-03  1.74107570e-02 -6.49058223e-02 -3.77300829e-02\n",
      " -6.04620064e-03 -2.69351657e-02  3.07963267e-02  2.99263932e-02\n",
      "  2.28131693e-02  4.82384227e-02 -2.68241130e-02  1.38747478e-02\n",
      "  6.94761844e-03  1.10564820e-01 -3.80492061e-02  6.70238510e-02\n",
      "  4.32408974e-02  4.40849774e-02  1.41449735e-01  2.74081379e-02\n",
      " -2.64925119e-02 -2.34059617e-02  2.52408087e-02 -1.15638837e-01\n",
      " -4.44715619e-02  1.20827615e-01 -6.79336339e-02 -4.12718812e-03\n",
      "  4.88036759e-02 -8.36345628e-02 -7.47149577e-03  1.45434169e-02\n",
      "  4.21423391e-02  9.96017363e-03 -3.03810667e-02  3.07044219e-02\n",
      " -5.44978268e-02  2.00803354e-02 -3.39894257e-02 -1.70072243e-02\n",
      "  1.79964788e-02 -9.19211376e-03 -5.58790863e-02  2.46163048e-02\n",
      " -7.41753057e-02  2.50431318e-02 -1.33762248e-02 -3.01644877e-02\n",
      "  5.13295131e-03 -1.22694388e-01  2.69682650e-02 -8.05827752e-02\n",
      " -6.40810058e-02 -2.66281385e-02  4.46979254e-02 -7.36862198e-02\n",
      "  1.08103663e-01 -1.08524516e-01 -1.92947183e-02  3.55004855e-02\n",
      " -1.39950421e-02 -2.84519438e-02  5.50788529e-02 -4.38912809e-02\n",
      " -6.69799671e-02  3.65948230e-02  1.14122536e-02 -7.30026364e-02\n",
      "  3.60842682e-02 -3.94108705e-02 -5.68320490e-02 -8.68287459e-02\n",
      "  1.81427281e-02 -4.27279919e-02  9.84997153e-02  6.91461936e-02\n",
      " -1.75519679e-02  4.02285643e-02  1.10557871e-02 -3.26838046e-02\n",
      "  1.66591499e-02  8.80498439e-02 -3.13167013e-02  4.42992002e-02\n",
      "  1.42087229e-02  9.72350761e-02 -1.82435829e-02 -1.77914607e-08\n",
      " -9.87713933e-02 -6.72678500e-02 -6.37924373e-02 -2.38034036e-03\n",
      " -5.45802945e-03 -2.69064754e-02  1.93583779e-02 -1.82852484e-02\n",
      " -9.90294591e-02  2.61646509e-03  2.03215200e-02 -2.78642457e-02\n",
      " -5.64962104e-02 -8.28696266e-02  8.64199251e-02  6.54201135e-02\n",
      " -3.65103260e-02  4.03081812e-02  1.24993436e-02  7.32379500e-03\n",
      "  4.40830402e-02  8.41996968e-02 -8.80989209e-02  6.68013245e-02\n",
      " -8.22587963e-03  3.23784053e-02 -2.14918237e-02  6.42444119e-02\n",
      "  9.98394340e-02  3.19488905e-03 -6.60445122e-03  1.01482265e-01\n",
      " -1.82872675e-02 -2.55437158e-02 -9.02120583e-03  2.22145226e-02\n",
      "  4.60018292e-02 -4.62917276e-02  7.20085725e-02  2.51022596e-02\n",
      " -3.88439484e-02  4.73693050e-02 -8.26629028e-02  5.32529019e-02\n",
      "  1.71372853e-02 -1.55738126e-02 -2.55198013e-02 -4.79646549e-02\n",
      "  1.43865012e-02 -4.95189019e-02  6.78844005e-03  1.07920840e-02\n",
      " -6.83324784e-03  5.05783632e-02  2.53449976e-02  3.03292926e-03\n",
      "  3.41525190e-02 -1.58565864e-02  3.30647752e-02 -6.62021153e-03\n",
      "  1.89247429e-02  9.77028534e-02  5.06497771e-02 -7.17795193e-02]\n",
      "\n",
      "Sentence: Sentence Transformers provide high-quality embeddings.\n",
      "Embedding: [-4.74967286e-02 -7.21813887e-02  6.94472119e-02 -2.08328082e-03\n",
      "  2.70634536e-02  4.26344424e-02 -4.09271009e-02  4.35438231e-02\n",
      "  8.89034867e-02 -4.82061319e-02  2.10331883e-02  3.89211178e-02\n",
      "  2.38125734e-02  5.78090884e-02  2.82156803e-02  7.92607367e-02\n",
      "  8.13707113e-02  1.14359826e-01 -9.23711434e-02 -1.06366538e-01\n",
      "  5.45565076e-02  5.55022322e-02  4.35294546e-02 -5.45126721e-02\n",
      "  2.49195714e-02  5.13016097e-02 -4.83016260e-02 -4.81057204e-02\n",
      "  6.90907836e-02 -2.04372369e-02 -2.48512980e-02 -2.43987739e-02\n",
      " -6.18218742e-02  6.36913702e-02 -2.06316095e-02  8.06197971e-02\n",
      "  1.22224819e-02  3.11399400e-02 -6.90097269e-03 -2.08019745e-02\n",
      "  3.72126848e-02  3.98026370e-02  4.62514311e-02  5.57855628e-02\n",
      "  3.65420617e-02 -3.51203419e-02 -3.61380130e-02 -3.34773213e-02\n",
      " -4.27246653e-02  2.43383292e-02 -5.68561368e-02 -6.01069536e-03\n",
      "  8.00794456e-03  1.05388522e-01 -3.04946974e-02  1.04075801e-02\n",
      " -3.78863886e-02 -3.16880494e-02  2.38958150e-02 -8.42983946e-02\n",
      " -6.49492070e-02 -3.50588262e-02  1.27450028e-03  4.66580549e-03\n",
      " -7.47657614e-03 -2.08127499e-02  1.76231135e-02  5.01613989e-02\n",
      " -7.84098729e-02  9.11156833e-02 -8.84216204e-02 -1.35239502e-02\n",
      " -1.12965479e-01  4.11444791e-02 -1.35433739e-02  5.34208603e-02\n",
      "  7.06060678e-02 -1.14739165e-01  7.74484351e-02 -3.28663327e-02\n",
      "  2.79763564e-02 -4.17512245e-02  4.11476940e-02  2.10903361e-02\n",
      "  9.08479691e-02 -2.34150700e-02  2.75190696e-02 -5.01989201e-02\n",
      " -1.06632859e-01  3.41809541e-02 -6.14986271e-02 -9.84612256e-02\n",
      "  7.12359920e-02  9.58261732e-03 -1.32165020e-02  4.16418165e-03\n",
      " -2.65426990e-02 -6.07496798e-02  4.04374264e-02  7.07676113e-02\n",
      "  8.21863580e-03  5.39589068e-03  4.92693409e-02 -7.02286810e-02\n",
      " -6.51685372e-02 -8.36833566e-02 -9.92511585e-03  2.68271547e-02\n",
      " -4.62633334e-02 -2.52906512e-02 -3.70425694e-02 -4.50153137e-03\n",
      " -5.05524548e-03 -5.02513982e-02  7.57241696e-02 -1.14703644e-02\n",
      " -3.24707776e-02 -5.01355082e-02 -2.56377365e-02 -9.15212650e-03\n",
      "  5.67740388e-03  5.60841225e-02 -8.09854642e-02  7.78567120e-02\n",
      " -1.02608334e-02 -5.35301343e-02  4.74234372e-02 -3.03001558e-33\n",
      " -4.48538773e-02  6.69454336e-02  1.48533816e-02  7.75236264e-02\n",
      " -2.16905847e-02  3.35917994e-02 -3.94241549e-02  7.86059946e-02\n",
      " -5.58215380e-02  5.35319047e-03 -8.45990255e-02  3.31549868e-02\n",
      " -2.13071704e-02  7.56276548e-02 -1.77969988e-02 -2.22752411e-02\n",
      " -1.17744505e-02 -6.57134084e-03 -1.59805678e-02  2.48625837e-02\n",
      " -5.22403084e-02  2.14056615e-02 -4.12683788e-04 -3.47550511e-02\n",
      " -9.69137773e-02 -4.88654226e-02  9.70598087e-02 -6.12975657e-02\n",
      " -3.99090685e-02 -3.49966856e-03 -1.16061859e-01 -1.18373334e-02\n",
      " -2.51765121e-02 -6.82550715e-03  2.05440633e-02 -8.60586017e-03\n",
      " -3.65430198e-04 -1.24790175e-02  2.65154033e-03 -1.01043470e-02\n",
      " -1.28088780e-02  2.92043462e-02 -4.42723744e-02  1.84706934e-02\n",
      "  1.38351684e-02  1.71719305e-02  3.24441828e-02 -8.92352499e-03\n",
      "  4.78345528e-02 -1.51188662e-02  2.86974050e-02  1.37639539e-02\n",
      " -4.73315455e-02 -4.05244976e-02  7.98127875e-02 -8.36519699e-04\n",
      "  5.21263368e-02  2.45504752e-02  5.98769449e-02 -9.12753958e-03\n",
      " -2.38792114e-02  2.56353170e-02  3.35187539e-02  4.00541723e-03\n",
      "  1.56764071e-02 -1.46148512e-02  4.84974356e-03 -1.77185833e-02\n",
      " -2.23224750e-03  2.75177732e-02 -3.36521715e-02  3.47124040e-02\n",
      " -3.60044837e-02 -3.61319706e-02 -4.35068905e-02  6.78658634e-02\n",
      "  5.73581923e-03 -2.14917958e-02  1.42015312e-02  6.69302419e-02\n",
      " -3.85291725e-02 -1.00429177e-01  3.56087349e-02 -6.09487742e-02\n",
      " -2.19032895e-02 -9.64358076e-02  1.06260860e-02 -9.70417708e-02\n",
      "  4.69813868e-02  2.50738394e-02  2.46708225e-02 -1.16699962e-02\n",
      " -3.75967415e-04  4.39014472e-02  6.61437586e-02  2.28137740e-33\n",
      " -4.47564386e-03  3.43834534e-02 -1.07163377e-01  9.38755795e-02\n",
      " -4.26125079e-02 -1.95926633e-02 -4.07240465e-02  6.09969608e-02\n",
      " -8.54582642e-04  2.98864637e-02 -6.71991184e-02 -4.02860940e-02\n",
      "  3.86267155e-02 -8.15841407e-02  9.50203761e-02  9.52250557e-04\n",
      "  3.65725234e-02  2.49417070e-02 -1.25052407e-02  4.90349717e-02\n",
      "  4.19784151e-02  1.16780080e-01 -7.30908811e-02  8.55666697e-02\n",
      "  2.02429909e-02  8.84751305e-02 -5.87801673e-02  3.59689444e-02\n",
      " -2.53677703e-02 -1.71523821e-02 -3.64933275e-02 -7.52030537e-02\n",
      "  5.41655952e-03  5.65156480e-03 -1.01737224e-01 -9.72669292e-03\n",
      "  6.38127699e-02 -4.90255095e-03  1.10972661e-03 -1.39231365e-02\n",
      "  5.38364649e-02 -1.16714276e-02 -4.67954464e-02  5.27889356e-02\n",
      " -3.89086641e-02 -5.61443046e-02 -9.13068503e-02 -9.89505202e-02\n",
      "  8.81156698e-02  5.86004481e-02 -2.45432351e-02  6.62095100e-02\n",
      " -1.11899391e-01  4.59972973e-04  1.36505915e-02 -1.12139612e-01\n",
      " -3.99725139e-02 -7.64871612e-02  4.32790071e-02 -5.35412319e-02\n",
      " -8.92947391e-02  1.70124080e-02  4.68971580e-02 -1.26227602e-01\n",
      "  7.96784014e-02 -1.09087795e-01 -4.95167170e-03  8.41579586e-03\n",
      "  1.16994986e-02 -2.61750799e-02 -9.78105888e-03 -3.31752524e-02\n",
      " -1.06209740e-02  1.47061888e-02  1.95333958e-02 -5.17037325e-02\n",
      "  5.46281673e-02  1.36995222e-02 -3.54732163e-02 -6.03968725e-02\n",
      "  4.36454602e-02 -5.03214374e-02  8.68192315e-02  1.77493542e-02\n",
      "  3.47081013e-02  8.49890187e-02  3.72673236e-02  1.65036581e-02\n",
      "  1.75168756e-02  5.62915020e-02 -5.16636334e-02 -5.42390440e-03\n",
      " -1.65495090e-02  8.46255049e-02  1.66678801e-02 -1.70905921e-08\n",
      " -6.20134957e-02  2.34381575e-02 -4.30560149e-02  2.24171411e-02\n",
      " -4.35969196e-02 -7.71561638e-02 -2.00185627e-02  9.63998884e-02\n",
      " -3.57923955e-02 -3.64459143e-03  3.18852179e-02 -7.36439088e-03\n",
      " -4.64344509e-02 -4.49477807e-02  5.42570315e-02  5.81646152e-02\n",
      " -4.28038538e-02  2.46587452e-02  2.94494629e-02  4.88966703e-02\n",
      "  3.82938571e-02  9.99748781e-02 -6.06250670e-03  1.31873712e-02\n",
      " -1.80550460e-02  1.34700686e-02 -1.11408057e-02 -2.31908038e-02\n",
      "  3.44079547e-02  4.41445448e-02  2.56894697e-02  5.11076488e-02\n",
      " -3.39448638e-02 -5.23944460e-02 -5.16223460e-02  1.22202843e-01\n",
      "  8.63803178e-02 -6.20639548e-02  4.06240113e-03 -4.70833248e-03\n",
      "  4.70667221e-02  6.07466847e-02 -1.29281208e-01  3.04471161e-02\n",
      "  6.48924261e-02  1.14833293e-02  6.39265105e-02 -9.52226669e-02\n",
      "  7.51388678e-03  1.12371705e-03  3.67841162e-02 -4.19750698e-02\n",
      " -5.04835928e-03  8.52913188e-04  2.24956423e-02  4.08381000e-02\n",
      "  5.00111543e-02 -5.04691526e-02  2.67819501e-02  3.85500491e-02\n",
      " -7.75427266e-04  1.08597793e-01  6.99139386e-02 -1.07173054e-02]\n",
      "\n"
     ]
    }
   ],
   "source": [
    "import warnings\n",
    "from tqdm import TqdmExperimentalWarning\n",
    "warnings.filterwarnings(\"ignore\", category=TqdmExperimentalWarning)\n",
    "from sentence_transformers import SentenceTransformer\n",
    "\n",
    "# Load a pre-trained Sentence Transformer model\n",
    "model = SentenceTransformer('all-MiniLM-L6-v2')\n",
    "\n",
    "# Define some sentences\n",
    "sentences = [\n",
    "    \"This is an example sentence.\",\n",
    "    \"Each sentence is converted into a vector representation.\",\n",
    "    \"Sentence Transformers provide high-quality embeddings.\"\n",
    "]\n",
    "\n",
    "# Generate embeddings for the sentences\n",
    "embeddings = model.encode(sentences)\n",
    "\n",
    "# Print the embeddings\n",
    "for sentence, embedding in zip(sentences, embeddings):\n",
    "    print(f\"Sentence: {sentence}\")\n",
    "    print(f\"Embedding: {embedding}\\n\")"
   ]
  },
  {
   "cell_type": "markdown",
   "id": "57fd134b-a23f-46e1-a730-65c5cd5e9f17",
   "metadata": {},
   "source": [
    "## Applications of Sentence Transformers\n",
    "\n",
    "1.\tSemantic Search: Finding sentences or documents that are semantically similar to a query sentence.\n",
    "2.\tClustering: Grouping sentences or documents based on their semantic similarity.\n",
    "3.\tParaphrase Detection: Identifying whether two sentences have the same meaning.\n",
    "4.\tTextual Entailment: Determining if one sentence logically follows from another.\n",
    "5.\tSummarization: Generating concise summaries of documents by capturing the main ideas."
   ]
  },
  {
   "cell_type": "markdown",
   "id": "3e74e5f1-8e21-41ff-9cbe-66b6b06abd54",
   "metadata": {},
   "source": [
    "# Vector Databases\n",
    "\n",
    "A vector database is a specialized type of database designed to store and manage high-dimensional vectors efficiently. These vectors are typically used to represent data in a numerical format that captures the essential features and relationships of the data, often derived from machine learning models or other data processing techniques. Vector databases are particularly useful for tasks that involve similarity search, clustering, recommendation systems, and other applications where comparing high-dimensional data points is crucial.\n",
    "\n",
    "<img width=\"425\" alt=\"Vector Space\" src=\"https://github.com/user-attachments/assets/3439b580-8b77-44ff-926d-913c973fef7e\">"
   ]
  },
  {
   "cell_type": "markdown",
   "id": "dec60e19-5ae6-438e-abd0-cefa0ec6496c",
   "metadata": {},
   "source": [
    "# Semantic Search\n",
    "\n",
    "Semantic search is a search technique that aims to improve search accuracy by understanding the intent and contextual meaning of the search query, rather than relying solely on keyword matching. It uses natural language processing (NLP) and machine learning (ML) techniques to interpret the semantics of the query and the content of the documents, enabling more relevant and meaningful search results.\n",
    "\n",
    "<img width=\"485\" alt=\"image\" src=\"https://github.com/user-attachments/assets/52c8a2b0-d9a0-4fb0-995a-92de1af4c7aa\">"
   ]
  },
  {
   "cell_type": "code",
   "execution_count": 7,
   "id": "0c27001a-4137-4efa-b0e4-d286af02c3af",
   "metadata": {},
   "outputs": [
    {
     "name": "stdout",
     "output_type": "stream",
     "text": [
      "Query: What technologies are used in autonomous vehicles?\n",
      "Most similar document: Self-driving cars use machine learning for navigation.\n"
     ]
    }
   ],
   "source": [
    "from sentence_transformers import SentenceTransformer, util\n",
    "\n",
    "# Load a pre-trained Sentence Transformer model\n",
    "model = SentenceTransformer('all-MiniLM-L6-v2')\n",
    "\n",
    "# Define some documents\n",
    "documents = [\n",
    "    \"The quick brown fox jumps over the lazy dog.\",\n",
    "    \"A fast, brown animal leaps over a sleeping canine.\",\n",
    "    \"Artificial intelligence and machine learning are transforming the world.\",\n",
    "    \"Self-driving cars use machine learning for navigation.\"\n",
    "]\n",
    "\n",
    "# Encode the documents to get their embeddings\n",
    "document_embeddings = model.encode(documents, convert_to_tensor=True)\n",
    "\n",
    "# Define a query\n",
    "query = \"What technologies are used in autonomous vehicles?\"\n",
    "\n",
    "# Encode the query to get its embedding\n",
    "query_embedding = model.encode(query, convert_to_tensor=True)\n",
    "\n",
    "# Compute the cosine similarity between the query and the documents\n",
    "cosine_scores = util.pytorch_cos_sim(query_embedding, document_embeddings)\n",
    "\n",
    "# Get the most similar document\n",
    "most_similar_idx = cosine_scores.argmax().item()\n",
    "most_similar_doc = documents[most_similar_idx]\n",
    "\n",
    "print(\"Query:\", query)\n",
    "print(\"Most similar document:\", most_similar_doc)"
   ]
  },
  {
   "cell_type": "markdown",
   "id": "df794259-986b-4047-9913-00d084e32b2a",
   "metadata": {},
   "source": [
    "# Retrieval-Augmented Generation\n",
    "\n",
    "Retrieval-Augmented Generation (RAG) is a method that combines the strengths of information retrieval (IR) and natural language generation (NLG) to produce high-quality, contextually relevant text. It integrates a retrieval system with a generative model, allowing the model to access external knowledge sources during the generation process. This approach enhances the model’s ability to generate accurate and informative responses by grounding the generated text in retrieved information.\n",
    "\n",
    "<img width=\"1098\" alt=\"image\" src=\"https://github.com/user-attachments/assets/8125d6c8-6a41-4896-aaec-e45f16faa8bf\">\\\\"
   ]
  },
  {
   "cell_type": "markdown",
   "id": "f7229bb0-f3a3-44e4-97de-f88910e82b6c",
   "metadata": {},
   "source": [
    "## Encode Documents into Vector DB"
   ]
  },
  {
   "cell_type": "code",
   "execution_count": null,
   "id": "5804a831-3758-48cb-9516-3097be97db11",
   "metadata": {
    "scrolled": true
   },
   "outputs": [],
   "source": [
    "!pip install sentence-transformers chromadb\n",
    "import os\n",
    "import re\n",
    "import string\n",
    "from html import unescape\n",
    "import uuid\n",
    "import httpx\n",
    "import chromadb\n",
    "from chromadb.config import Settings"
   ]
  },
  {
   "cell_type": "code",
   "execution_count": 118,
   "id": "3c822a8a-02d6-40d2-87e4-b659e9b47902",
   "metadata": {},
   "outputs": [
    {
     "name": "stdout",
     "output_type": "stream",
     "text": [
      "ChromaDB starting...\n"
     ]
    }
   ],
   "source": [
    "# ChromaDB Configuration Settings for Data\n",
    "print(\"ChromaDB starting...\")\n",
    "DIR = \".\"\n",
    "DB_PATH = os.path.join(DIR, 'data')\n",
    "chroma_client = chromadb.PersistentClient(path=DB_PATH, settings=Settings(allow_reset=True, anonymized_telemetry=False))\n",
    "sample_collection = chroma_client.get_or_create_collection(name=\"jasonacox\")"
   ]
  },
  {
   "cell_type": "code",
   "execution_count": 119,
   "id": "a4782026-5413-4367-894e-af9d35f52247",
   "metadata": {},
   "outputs": [],
   "source": [
    "# Initialize arrays\n",
    "documents = []\n",
    "metadatas = []\n",
    "ids = []"
   ]
  },
  {
   "cell_type": "code",
   "execution_count": 120,
   "id": "3644eb3a-37cf-4c69-a22e-368368c13102",
   "metadata": {},
   "outputs": [
    {
     "name": "stdout",
     "output_type": "stream",
     "text": [
      "Pulling blog json feed content from https://www.jasonacox.com/wordpress/feed/json...\n",
      "Size: 196\n"
     ]
    }
   ],
   "source": [
    "# Read in blog data from jasonacox.com\n",
    "tag_re = re.compile('<.*?>') # regex to remove html tags\n",
    "feed = \"https://www.jasonacox.com/wordpress/feed/json\"\n",
    "print(f\"Pulling blog json feed content from {feed}...\")\n",
    "data = httpx.get(feed, timeout=None).json()\n",
    "print(f\"Size: {len(data['items'])}\")"
   ]
  },
  {
   "cell_type": "code",
   "execution_count": 121,
   "id": "718e150d-daeb-46ed-b3e7-4962a096432e",
   "metadata": {},
   "outputs": [
    {
     "name": "stdout",
     "output_type": "stream",
     "text": [
      "Indexing blog articles...\n",
      "Loaded 196 documents\n"
     ]
    }
   ],
   "source": [
    "# Loop to read in all articles - ignore any errors\n",
    "print(\"Indexing blog articles...\")\n",
    "n = 1\n",
    "for item in data[\"items\"]:\n",
    "    uid = str(uuid.uuid1().int)[:32]\n",
    "    title = item[\"title\"]\n",
    "    url = item[\"url\"]\n",
    "    meta = {'title': title, 'url': url}\n",
    "    body = tag_re.sub('', item[\"content_html\"])\n",
    "    body = unescape(body)\n",
    "    body = ''.join(char for char in body if char in string.printable)\n",
    "    documents.append(body)\n",
    "    metadatas.append(meta)\n",
    "    ids.append(uid)\n",
    "    n = n + 1\n",
    "print(f\"Loaded {len(documents)} documents\")"
   ]
  },
  {
   "cell_type": "code",
   "execution_count": 122,
   "id": "89659a64-8837-4c2d-9ad5-664eca7c67ec",
   "metadata": {},
   "outputs": [
    {
     "name": "stdout",
     "output_type": "stream",
     "text": [
      "Collection(id=cebd494f-f45c-4c2b-bd1b-f213fbe4a7c4, name=jasonacox)\n"
     ]
    }
   ],
   "source": [
    "# Add vectors to collection\n",
    "sample_collection.add(documents=documents, metadatas=metadatas, ids=ids)\n",
    "print(sample_collection)"
   ]
  },
  {
   "cell_type": "code",
   "execution_count": 127,
   "id": "232da7cd-c289-4a07-ba49-5212f69ea42d",
   "metadata": {},
   "outputs": [
    {
     "name": "stdout",
     "output_type": "stream",
     "text": [
      "5\n"
     ]
    }
   ],
   "source": [
    "# Query the collection - TEST\n",
    "prompt = \"Give me some facts about solar in California.\"\n",
    "query_result = sample_collection.query(query_texts=prompt, n_results=5)\n",
    "print(len(query_result['metadatas'][0]))"
   ]
  },
  {
   "cell_type": "code",
   "execution_count": 128,
   "id": "62121071-97df-4b0c-b118-f525e73385e0",
   "metadata": {},
   "outputs": [
    {
     "name": "stdout",
     "output_type": "stream",
     "text": [
      "\n",
      "Prompt: Give me some facts about solar in California.\n",
      "Top 5 Documents found:\n",
      " * California Solar and Net Metering\n",
      " * 23.5 Degrees\n",
      " * An Ocean of Science\n",
      " * Halfway Out of the Dark\n",
      " * Dog Days of Summer\n"
     ]
    }
   ],
   "source": [
    "docs = []\n",
    "print(\"\")\n",
    "print(\"Prompt: \" + prompt)\n",
    "print(f\"Top {5} Documents found:\")\n",
    "# Print Titles and Concatenate Documents\n",
    "x = 0\n",
    "for result in query_result['metadatas'][0]:\n",
    "    print(\" * \" + result['title'])\n",
    "    doc = {\n",
    "        'title': result['title'],\n",
    "        'text': query_result['documents'][0][x]\n",
    "    }\n",
    "    docs.append(doc)\n",
    "    x += 1\n",
    "\n",
    "context_str = \"\\n\".join([f\"{doc['title']}\\n{doc['text']}\" for doc in docs])"
   ]
  },
  {
   "cell_type": "code",
   "execution_count": 117,
   "id": "41568467-995f-47eb-bbf6-db4c63a1672e",
   "metadata": {},
   "outputs": [
    {
     "data": {
      "text/plain": [
       "True"
      ]
     },
     "execution_count": 117,
     "metadata": {},
     "output_type": "execute_result"
    }
   ],
   "source": [
    "# Remove DB\n",
    "chroma_client.reset()"
   ]
  },
  {
   "cell_type": "markdown",
   "id": "90999fa8-ce38-4f61-9c4f-828fa60a7b50",
   "metadata": {},
   "source": [
    "## Use LLM to Provide NL Answer"
   ]
  },
  {
   "cell_type": "code",
   "execution_count": 129,
   "id": "42c83d34-0ce2-46fb-90a1-f3a085d0cc42",
   "metadata": {},
   "outputs": [],
   "source": [
    "prompt = \"Give me some facts about solar.\"\n",
    "rag = f\"\"\"You are an assistant for question-answering tasks. Use the following pieces of retrieved context to answer the question. \n",
    "If you don't know the answer, just say that you don't know. Back up your answer using facts from the following context.\n",
    "Context: {context_str}\n",
    "Question: {prompt}\n",
    "Answer:\n",
    "\"\"\""
   ]
  },
  {
   "cell_type": "code",
   "execution_count": null,
   "id": "508a556d-4293-46b1-a92b-3d7acdda1548",
   "metadata": {},
   "outputs": [],
   "source": [
    "!pip install openai"
   ]
  },
  {
   "cell_type": "code",
   "execution_count": 130,
   "id": "c3aebf3c-38cd-4773-826f-bcca7d456348",
   "metadata": {},
   "outputs": [
    {
     "name": "stdout",
     "output_type": "stream",
     "text": [
      "LLM:\n",
      "Here are some facts about solar energy based on the provided context:\n",
      "\n",
      "1. **Solar Energy Generation**: Solar energy is generated by harnessing the power of the sun's rays, which can be used to produce electricity. In the context, the author mentions that their solar array and batteries were installed in 2021, and they have been observing the energy production from their solar panels.\n",
      "\n",
      "2. **Solar Energy Year**: The author notes that the solar energy year is affected by the tilt of the Earth (23.5 degrees) and the elliptical orbit around the sun. This results in varying energy production throughout the year, with peak production in the summer and minimal production in the winter.\n",
      "\n",
      "3. **Solar Energy Storage**: The author emphasizes the importance of energy storage devices (ESDs) like batteries to store excess energy generated by solar panels during the day for use during the night or periods of low energy production.\n",
      "\n",
      "4. **Solar Duck Curve**: The author mentions the \"solar duck curve,\" which refers to the dramatic drop in energy demand during the day due to solar energy production and the subsequent surge in energy demand in the evening. This curve presents a challenge for utility companies to match energy supply and demand.\n",
      "\n",
      "5. **Benefits of Solar Energy**: The author highlights the benefits of solar energy, including the distribution of power generation closer to the point of use, reduced load on the electrical grid, and increased awareness of energy usage among homeowners.\n",
      "\n",
      "6. **Solar Panel Efficiency**: The author notes that the efficiency of solar panels can be affected by the angle of the sun's rays, with peak production occurring when the sun's rays hit the panels at an optimal angle.\n",
      "\n",
      "7. **Solar Energy and the Grid**: The author emphasizes the need for a resilient power grid that can accommodate the integration of solar energy and other renewable sources. This requires a balance between the costs of operating the grid and the benefits of renewable energy.\n",
      "\n",
      "8. **Solar Energy Incentives**: The author mentions the importance of incentives, such as net metering, to encourage the adoption of solar energy. However, they also note that these incentives may not be sustainable in the long term.\n",
      "\n",
      "9. **Solar Energy and Energy Storage**: The author suggests that energy storage devices (ESDs) like batteries can help mitigate the challenges associated with solar energy, such as the solar duck curve and voltage rise.\n",
      "\n",
      "10. **Future of Solar Energy**: The author is optimistic about the future of solar energy, citing advancements in technology and the potential for increased efficiency and capacity. They also emphasize the importance of continued innovation and investment in solar energy to achieve a more sustainable energy future.\n"
     ]
    }
   ],
   "source": [
    "import openai\n",
    "api_key = \"API_KEY\"\n",
    "base_url = \"http://localhost:8000/v1\"\n",
    "model = \"meta-llama/Meta-Llama-3.1-8B-Instruct\"\n",
    "\n",
    "llm = openai.OpenAI(api_key=api_key, base_url=base_url)\n",
    "response = llm.chat.completions.create(\n",
    "    model=model,\n",
    "    max_tokens=2000,\n",
    "    stream=False,\n",
    "    temperature=0.0,\n",
    "    messages=[{\"role\": \"user\", \"content\": rag}],\n",
    ")\n",
    "# Print the answer\n",
    "print(\"LLM:\")\n",
    "print(response.choices[0].message.content)"
   ]
  },
  {
   "cell_type": "code",
   "execution_count": null,
   "id": "825c87f9-635e-4d91-ae40-3a1def6807b2",
   "metadata": {},
   "outputs": [],
   "source": []
  }
 ],
 "metadata": {
  "kernelspec": {
   "display_name": "Python 3 (ipykernel)",
   "language": "python",
   "name": "python3"
  },
  "language_info": {
   "codemirror_mode": {
    "name": "ipython",
    "version": 3
   },
   "file_extension": ".py",
   "mimetype": "text/x-python",
   "name": "python",
   "nbconvert_exporter": "python",
   "pygments_lexer": "ipython3",
   "version": "3.11.7"
  }
 },
 "nbformat": 4,
 "nbformat_minor": 5
}
