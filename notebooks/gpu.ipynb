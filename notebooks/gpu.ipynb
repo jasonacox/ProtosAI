{
 "cells": [
  {
   "cell_type": "code",
   "execution_count": 1,
   "id": "88586b3d-17ec-4b07-a209-11e4641274c1",
   "metadata": {},
   "outputs": [
    {
     "name": "stdout",
     "output_type": "stream",
     "text": [
      "GPU Information for PyTorch\n",
      "   Version of torch:  2.3.1+cu121\n",
      "\n",
      "GPU Details\n",
      "   Device #0: NVIDIA GeForce RTX 3090\n",
      "   Type: cuda \n",
      "   GPUs: 1\n",
      "\n",
      "Memory\n",
      "   GPU Total Memory: 23.4752197265625 GB\n",
      "   GPU Free Memory: 3.4014892578125 GB (14%)\n",
      "   Allocated: 0.0 GB\n",
      "   Cached:    0.0 GB\n",
      "\n",
      "PyTorch Test with cuda - Random 4x4 Array\n",
      "\n",
      "tensor([[2543, 2174, 1354, 7538],\n",
      "        [ 709, 9553, 6524, 6089],\n",
      "        [9552, 7803, 5133, 5136],\n",
      "        [1799,  267, 6357, 5720]], device='cuda:0')\n"
     ]
    }
   ],
   "source": [
    "print(\"GPU Information for PyTorch\")\n",
    "print(\"   Version of torch: \",end=\"\")\n",
    "import torch\n",
    "import os\n",
    "\n",
    "# AMD ROCm requires environmental override to prevent segfault\n",
    "sim = \"\"\n",
    "if \"rocm\" in torch.__version__:\n",
    "    os.environ[\"HSA_OVERRIDE_GFX_VERSION\"] = \"10.3.0\"\n",
    "    sim = \"(ROCm)\"\n",
    "\n",
    "print(f\" {torch.__version__}\")\n",
    "print()\n",
    "print(\"GPU Details\")\n",
    "\n",
    "if torch.cuda.is_available():\n",
    "    # Get number of GPUs available\n",
    "    gpus = torch.cuda.device_count()\n",
    "\n",
    "    # Get index of currently selected device\n",
    "    deviceno = torch.cuda.current_device()\n",
    "    name = torch.cuda.get_device_name(deviceno)\n",
    "\n",
    "    # Returns the global free and total GPU memory\n",
    "    (mem_free,gpu_mem) = torch.cuda.mem_get_info()\n",
    "\n",
    "    mem_free = mem_free / 1024**3\n",
    "    gpu_mem = gpu_mem / 1024**3\n",
    "    pct = (mem_free / gpu_mem) * 100\n",
    "\n",
    "    print(f\"   Device #{deviceno}: {name}\")\n",
    "    print(f\"   Type: cuda {sim}\")\n",
    "    print(f\"   GPUs: {gpus}\")\n",
    "    print()\n",
    "    print(\"Memory\")\n",
    "    print(f\"   GPU Total Memory: {gpu_mem} GB\")\n",
    "    print(f\"   GPU Free Memory: {mem_free} GB ({int(pct)}%)\")\n",
    "    print('   Allocated:', round(torch.cuda.memory_allocated(0)/1024**3,1), 'GB')\n",
    "    print('   Cached:   ', round(torch.cuda.memory_reserved(0)/1024**3,1), 'GB')\n",
    "    torch_device = torch.device(\"cuda\")\n",
    "\n",
    "# Check PyTorch has access to Apple MPS (Metal Performance Shader)\n",
    "if torch.backends.mps.is_available():\n",
    "    print(\"   Device: Apple Silicon Found\")\n",
    "    print(f\"   MPS (Metal Performance Shader) built: {torch.backends.mps.is_built()}\")\n",
    "    print(f\"   MPS available: {torch.backends.mps.is_available()}\")\n",
    "    torch_device = torch.device(\"mps\")\n",
    "\n",
    "# No GPUs Available\n",
    "if not (torch.cuda.is_available() or torch.backends.mps.is_available()):\n",
    "    print(\"   ** No GPU support found **\")\n",
    "    print(\"   Device: CPU\")\n",
    "    torch_device = torch.device(\"cpu\")\n",
    "\n",
    "# Run a simple PyTorch test\n",
    "print()\n",
    "print(f\"PyTorch Test with {torch_device} - Random 4x4 Array\\n\")\n",
    "random_array = torch.randint(low=0, high=10000, size=(4, 4), device=torch_device)\n",
    "print(random_array)"
   ]
  },
  {
   "cell_type": "code",
   "execution_count": null,
   "id": "87d34650-12a6-4685-9e2d-b40aea7239d4",
   "metadata": {},
   "outputs": [],
   "source": []
  }
 ],
 "metadata": {
  "kernelspec": {
   "display_name": "Python 3 (ipykernel)",
   "language": "python",
   "name": "python3"
  },
  "language_info": {
   "codemirror_mode": {
    "name": "ipython",
    "version": 3
   },
   "file_extension": ".py",
   "mimetype": "text/x-python",
   "name": "python",
   "nbconvert_exporter": "python",
   "pygments_lexer": "ipython3",
   "version": "3.11.7"
  }
 },
 "nbformat": 4,
 "nbformat_minor": 5
}
